{
 "cells": [
  {
   "cell_type": "code",
   "execution_count": 109,
   "id": "f3111e12",
   "metadata": {},
   "outputs": [],
   "source": [
    "# Libraries for data preprocessing\n",
    "import pandas as pd\n",
    "import numpy as np\n",
    "\n",
    "# Libraries for data visualization\n",
    "import seaborn as sns\n",
    "import matplotlib.pyplot as plt\n",
    "\n",
    "# Libraries for CNN model\n",
    "from tensorflow.keras.models import Sequential\n",
    "from tensorflow.keras.layers import Dropout, Flatten, Dense, Conv2D, MaxPooling2D, BatchNormalization\n",
    "from tensorflow.keras.callbacks import EarlyStopping, ModelCheckpoint\n",
    "from tensorflow.keras.preprocessing.image import ImageDataGenerator\n",
    "from tensorflow.keras.preprocessing import image_dataset_from_directory\n",
    "from tensorflow.keras.preprocessing.image import load_img, img_to_array\n",
    "\n",
    "from tensorflow.keras.optimizers import RMSprop\n",
    "from tensorflow.keras import regularizers\n",
    "import tensorflow as tf\n",
    "import cv2\n",
    "from PIL import Image\n",
    "\n",
    "# Transfer learning Libraries\n",
    "from tensorflow.keras.applications import ResNet50, VGG16, InceptionV3, EfficientNetB0,MobileNetV2\n",
    "from tensorflow.keras.layers import Input, Conv2D, MaxPooling2D, Flatten, Dense\n",
    "from tensorflow.keras.models import Model\n",
    "\n",
    "import os\n",
    "import random"
   ]
  },
  {
   "cell_type": "code",
   "execution_count": 108,
   "id": "e2782f79",
   "metadata": {},
   "outputs": [
    {
     "name": "stdout",
     "output_type": "stream",
     "text": [
      "Num GPUs Available:  1\n"
     ]
    }
   ],
   "source": [
    "print(\"Num GPUs Available: \", len(tf.config.list_physical_devices('GPU')))"
   ]
  },
  {
   "cell_type": "code",
   "execution_count": 79,
   "id": "f25eda17",
   "metadata": {},
   "outputs": [],
   "source": [
    "physical_devices = tf.config.list_physical_devices('GPU')\n",
    "tf.config.experimental.set_memory_growth(physical_devices[0], True)\n",
    "tf.config.set_visible_devices(physical_devices[0], 'GPU')"
   ]
  },
  {
   "cell_type": "markdown",
   "id": "d4f90a6d",
   "metadata": {},
   "source": [
    "### Reading in the Dataset"
   ]
  },
  {
   "cell_type": "code",
   "execution_count": 110,
   "id": "24354822",
   "metadata": {},
   "outputs": [],
   "source": [
    "# # Unzippping the dataset\n",
    "# import zipfile\n",
    "# with zipfile.ZipFile('archive (1).zip', 'r') as zip_ref:\n",
    "#      zip_ref.extractall(r'''\\\\adir.hull.ac.uk\\home\\700\\700970\\Downloads\\emotion_detection''')"
   ]
  },
  {
   "cell_type": "code",
   "execution_count": 111,
   "id": "4725e906",
   "metadata": {},
   "outputs": [],
   "source": [
    "#getting the train directory\n",
    "train_dir = './train'\n",
    "\n",
    "#getting the test directory\n",
    "test_dir =  './test'"
   ]
  },
  {
   "cell_type": "markdown",
   "id": "7b2fd07f",
   "metadata": {},
   "source": [
    "### Preprocessing the dataset"
   ]
  },
  {
   "cell_type": "code",
   "execution_count": 112,
   "id": "dd6ea56f",
   "metadata": {},
   "outputs": [],
   "source": [
    "# creating the datagenerator that will read in the images stored as train images\n",
    "datagen = ImageDataGenerator(rescale=1./255)"
   ]
  },
  {
   "cell_type": "code",
   "execution_count": 113,
   "id": "5343c62e",
   "metadata": {},
   "outputs": [
    {
     "name": "stdout",
     "output_type": "stream",
     "text": [
      "Found 28709 files belonging to 7 classes.\n",
      "Using 22968 files for training.\n",
      "Found 28709 files belonging to 7 classes.\n",
      "Using 1435 files for validation.\n",
      "Found 7178 files belonging to 7 classes.\n"
     ]
    }
   ],
   "source": [
    "# Flow training images in batches of 16 using datagen generator and resizing from 224 by 224 to 32 by 32\n",
    "train_data = image_dataset_from_directory(directory=train_dir,\n",
    "                                              seed=72,\n",
    "                                              shuffle=True,\n",
    "                                              validation_split = 0.20,\n",
    "                                              batch_size = 70,\n",
    "                                              #color_mode = 'grayscale',\n",
    "                                              label_mode='categorical',\n",
    "                                              image_size=(124,124),\n",
    "                                              subset='training') \n",
    "\n",
    "\n",
    "# Flow validation images in batches of 16 using datagen generator and resizing from 224 by 224 to 32 by 32\n",
    "val_data = image_dataset_from_directory(directory=train_dir,\n",
    "                                            shuffle=True,\n",
    "                                            batch_size = 70,\n",
    "                                            validation_split = 0.05,\n",
    "                                            seed= 72,\n",
    "                                            #color_mode = 'grayscale',\n",
    "                                            label_mode='categorical',\n",
    "                                            image_size=(124,124),\n",
    "                                            subset='validation')\n",
    "# Flow test images in batches of 16 using datagen generator and resizing from 224 by 224 to 32 by 32\n",
    "test_data = image_dataset_from_directory(directory=test_dir,\n",
    "                                            shuffle=True,\n",
    "                                            batch_size = 70,\n",
    "                                            seed= 72,\n",
    "                                            #color_mode = 'grayscale',\n",
    "                                            label_mode='categorical',\n",
    "                                            image_size=(124,124))\n"
   ]
  },
  {
   "cell_type": "code",
   "execution_count": 114,
   "id": "517f5a9c",
   "metadata": {},
   "outputs": [
    {
     "data": {
      "text/plain": [
       "TensorShape([70, 124, 124, 3])"
      ]
     },
     "execution_count": 114,
     "metadata": {},
     "output_type": "execute_result"
    }
   ],
   "source": [
    "# Check dimension of the train generator\n",
    "next(iter(train_data))[0].shape"
   ]
  },
  {
   "cell_type": "code",
   "execution_count": 115,
   "id": "1c6307bb",
   "metadata": {},
   "outputs": [
    {
     "data": {
      "text/plain": [
       "TensorShape([70, 124, 124, 3])"
      ]
     },
     "execution_count": 115,
     "metadata": {},
     "output_type": "execute_result"
    }
   ],
   "source": [
    "# Check dimension of the validation generator\n",
    "next(iter(val_data))[0].shape"
   ]
  },
  {
   "cell_type": "code",
   "execution_count": 116,
   "id": "e6a4afa2",
   "metadata": {},
   "outputs": [
    {
     "name": "stdout",
     "output_type": "stream",
     "text": [
      "['angry', 'disgusted', 'fearful', 'happy', 'neutral', 'sad', 'surprised']\n"
     ]
    }
   ],
   "source": [
    "class_names = train_data.class_names\n",
    "print(class_names)"
   ]
  },
  {
   "cell_type": "markdown",
   "id": "f9236fb2",
   "metadata": {},
   "source": [
    "### Configuring the dataset for perfomance"
   ]
  },
  {
   "cell_type": "code",
   "execution_count": 117,
   "id": "2f480493",
   "metadata": {},
   "outputs": [],
   "source": [
    "# # Using buffers prefetching to load images from disk \n",
    "AUTOTUNE = tf.data.AUTOTUNE\n",
    "train_data= train_data.cache().shuffle(100).prefetch(buffer_size=AUTOTUNE)"
   ]
  },
  {
   "cell_type": "markdown",
   "id": "231319d7",
   "metadata": {},
   "source": [
    "### Using Data Augumentation"
   ]
  },
  {
   "cell_type": "code",
   "execution_count": 118,
   "id": "23c10ae5",
   "metadata": {},
   "outputs": [],
   "source": [
    "# tranforming the dataset by randomly flipping ,rotating the dataset\n",
    "data_augmentation = tf.keras.Sequential([\n",
    "    tf.keras.layers.experimental.preprocessing.RandomFlip('vertical'),\n",
    "    tf.keras.layers.experimental.preprocessing.RandomRotation(0.2)\n",
    "])"
   ]
  },
  {
   "cell_type": "code",
   "execution_count": 119,
   "id": "4410b1a7",
   "metadata": {
    "scrolled": false
   },
   "outputs": [
    {
     "data": {
      "image/png": "[encoded data removed]",
      "text/plain": [
       "<Figure size 1000x1000 with 9 Axes>"
      ]
     },
     "metadata": {},
     "output_type": "display_data"
    }
   ],
   "source": [
    "# Applying the augmentation to the first image repeatedly\n",
    "for image,_ in train_data.take(1):\n",
    "    plt.figure(figsize=(10,10))\n",
    "    first_image = image[0]\n",
    "    for i in range(9):\n",
    "        ax = plt.subplot(3,3,i +1)\n",
    "        augmented_image = data_augmentation(tf.expand_dims(first_image,0))\n",
    "        plt.imshow(augmented_image[0]/255)\n",
    "        plt.axis('off')"
   ]
  },
  {
   "cell_type": "markdown",
   "id": "cba64b58",
   "metadata": {},
   "source": [
    "### Building the custom built CNN model"
   ]
  },
  {
   "cell_type": "code",
   "execution_count": 20,
   "id": "d85eb924",
   "metadata": {},
   "outputs": [],
   "source": [
    "# Set the image dimensions\n",
    "IMG_WIDTH = 124\n",
    "IMG_HEIGHT = 124\n",
    "input_shape = (IMG_HEIGHT,IMG_WIDTH,3)\n",
    "epochs = 120\n",
    "batch_size = 32"
   ]
  },
  {
   "cell_type": "code",
   "execution_count": 21,
   "id": "8a0470c4",
   "metadata": {},
   "outputs": [],
   "source": [
    "# Instantiating the custom built model\n",
    "model= tf.keras.models.Sequential()\n",
    "model.add(Conv2D(32, kernel_size=(3, 3), padding='same', activation='relu', input_shape=(124,124,3)))\n",
    "model.add(Conv2D(64,(3,3), padding='same', activation='relu' ))\n",
    "model.add(MaxPooling2D(pool_size=(3, 3)))\n",
    "model.add(Dropout(0.25))  # add dropout here\n",
    "\n",
    "model.add(Conv2D(128,(5,5), padding='same', activation='relu'))\n",
    "model.add(MaxPooling2D(pool_size=(2, 2)))\n",
    "model.add(Dropout(0.25)) \n",
    "\n",
    "model.add(Conv2D(512,(3,3), padding='same', activation='relu', kernel_regularizer=regularizers.l2(0.002)))\n",
    "model.add(MaxPooling2D(pool_size=(2, 2)))\n",
    "model.add(Dropout(0.25))  \n",
    "\n",
    "model.add(Conv2D(512,(3,3), padding='same', activation='relu', kernel_regularizer=regularizers.l1(0.002)))\n",
    "model.add(MaxPooling2D(pool_size=(2, 2)))\n",
    "model.add(Dropout(0.25)) \n",
    "\n",
    "model.add(Flatten()) \n",
    "model.add(Dense(256,activation = 'relu'))\n",
    "model.add(Dropout(0.5)) \n",
    "\n",
    "model.add(Dense(512,activation = 'relu'))\n",
    "model.add(Dense(7, activation='softmax'))"
   ]
  },
  {
   "cell_type": "code",
   "execution_count": 22,
   "id": "58d59900",
   "metadata": {},
   "outputs": [],
   "source": [
    "# Compiling the model with categorical crossentropy and Adam optimizer\n",
    "model.compile(\n",
    "     optimizer = tf.keras.optimizers.Adam(learning_rate = 0.0001),\n",
    "     loss='categorical_crossentropy',\n",
    "     metrics=['accuracy'])"
   ]
  },
  {
   "cell_type": "code",
   "execution_count": 23,
   "id": "e271928a",
   "metadata": {},
   "outputs": [
    {
     "name": "stdout",
     "output_type": "stream",
     "text": [
      "Model: \"sequential_2\"\n",
      "_________________________________________________________________\n",
      " Layer (type)                Output Shape              Param #   \n",
      "=================================================================\n",
      " conv2d_5 (Conv2D)           (None, 124, 124, 32)      896       \n",
      "                                                                 \n",
      " conv2d_6 (Conv2D)           (None, 124, 124, 64)      18496     \n",
      "                                                                 \n",
      " max_pooling2d_4 (MaxPooling  (None, 41, 41, 64)       0         \n",
      " 2D)                                                             \n",
      "                                                                 \n",
      " dropout_5 (Dropout)         (None, 41, 41, 64)        0         \n",
      "                                                                 \n",
      " conv2d_7 (Conv2D)           (None, 41, 41, 128)       204928    \n",
      "                                                                 \n",
      " max_pooling2d_5 (MaxPooling  (None, 20, 20, 128)      0         \n",
      " 2D)                                                             \n",
      "                                                                 \n",
      " dropout_6 (Dropout)         (None, 20, 20, 128)       0         \n",
      "                                                                 \n",
      " conv2d_8 (Conv2D)           (None, 20, 20, 512)       590336    \n",
      "                                                                 \n",
      " max_pooling2d_6 (MaxPooling  (None, 10, 10, 512)      0         \n",
      " 2D)                                                             \n",
      "                                                                 \n",
      " dropout_7 (Dropout)         (None, 10, 10, 512)       0         \n",
      "                                                                 \n",
      " conv2d_9 (Conv2D)           (None, 10, 10, 512)       2359808   \n",
      "                                                                 \n",
      " max_pooling2d_7 (MaxPooling  (None, 5, 5, 512)        0         \n",
      " 2D)                                                             \n",
      "                                                                 \n",
      " dropout_8 (Dropout)         (None, 5, 5, 512)         0         \n",
      "                                                                 \n",
      " flatten_1 (Flatten)         (None, 12800)             0         \n",
      "                                                                 \n",
      " dense_3 (Dense)             (None, 256)               3277056   \n",
      "                                                                 \n",
      " dropout_9 (Dropout)         (None, 256)               0         \n",
      "                                                                 \n",
      " dense_4 (Dense)             (None, 512)               131584    \n",
      "                                                                 \n",
      " dense_5 (Dense)             (None, 7)                 3591      \n",
      "                                                                 \n",
      "=================================================================\n",
      "Total params: 6,586,695\n",
      "Trainable params: 6,586,695\n",
      "Non-trainable params: 0\n",
      "_________________________________________________________________\n"
     ]
    }
   ],
   "source": [
    "# Checking the summary of the built model\n",
    "model.summary()"
   ]
  },
  {
   "cell_type": "code",
   "execution_count": 24,
   "id": "f9c536ec",
   "metadata": {},
   "outputs": [
    {
     "data": {
      "text/plain": [
       "<function keras.backend.clear_session()>"
      ]
     },
     "execution_count": 24,
     "metadata": {},
     "output_type": "execute_result"
    }
   ],
   "source": [
    "from keras import backend\n",
    "backend.clear_session"
   ]
  },
  {
   "cell_type": "code",
   "execution_count": 25,
   "id": "55ef0fd8",
   "metadata": {
    "scrolled": true
   },
   "outputs": [
    {
     "name": "stdout",
     "output_type": "stream",
     "text": [
      "Epoch 1/120\n",
      "329/329 - 54s - loss: 55.1043 - accuracy: 0.2238 - val_loss: 44.5671 - val_accuracy: 0.2404 - 54s/epoch - 164ms/step\n",
      "Epoch 2/120\n",
      "329/329 - 12s - loss: 36.0232 - accuracy: 0.2496 - val_loss: 28.4278 - val_accuracy: 0.2404 - 12s/epoch - 38ms/step\n",
      "Epoch 3/120\n",
      "329/329 - 11s - loss: 22.5660 - accuracy: 0.2503 - val_loss: 17.5081 - val_accuracy: 0.2404 - 11s/epoch - 33ms/step\n",
      "Epoch 4/120\n",
      "329/329 - 11s - loss: 13.7412 - accuracy: 0.2503 - val_loss: 10.5783 - val_accuracy: 0.2404 - 11s/epoch - 33ms/step\n",
      "Epoch 5/120\n",
      "329/329 - 11s - loss: 8.3038 - accuracy: 0.2504 - val_loss: 6.4580 - val_accuracy: 0.2404 - 11s/epoch - 33ms/step\n",
      "Epoch 6/120\n",
      "329/329 - 11s - loss: 5.1841 - accuracy: 0.2503 - val_loss: 4.2034 - val_accuracy: 0.2404 - 11s/epoch - 32ms/step\n",
      "Epoch 7/120\n",
      "329/329 - 11s - loss: 3.5292 - accuracy: 0.2505 - val_loss: 3.0423 - val_accuracy: 0.2404 - 11s/epoch - 33ms/step\n",
      "Epoch 8/120\n",
      "329/329 - 11s - loss: 2.7312 - accuracy: 0.2504 - val_loss: 2.5193 - val_accuracy: 0.2404 - 11s/epoch - 33ms/step\n",
      "Epoch 9/120\n",
      "329/329 - 11s - loss: 2.3745 - accuracy: 0.2499 - val_loss: 2.3002 - val_accuracy: 0.2404 - 11s/epoch - 33ms/step\n",
      "Epoch 10/120\n",
      "329/329 - 11s - loss: 2.2297 - accuracy: 0.2498 - val_loss: 2.1820 - val_accuracy: 0.2404 - 11s/epoch - 33ms/step\n",
      "Epoch 11/120\n",
      "329/329 - 11s - loss: 2.1380 - accuracy: 0.2503 - val_loss: 2.0950 - val_accuracy: 0.2404 - 11s/epoch - 34ms/step\n",
      "Epoch 12/120\n",
      "329/329 - 11s - loss: 2.0781 - accuracy: 0.2505 - val_loss: 2.0567 - val_accuracy: 0.2404 - 11s/epoch - 34ms/step\n",
      "Epoch 13/120\n",
      "329/329 - 11s - loss: 2.0444 - accuracy: 0.2505 - val_loss: 2.0320 - val_accuracy: 0.2404 - 11s/epoch - 33ms/step\n",
      "Epoch 14/120\n",
      "329/329 - 11s - loss: 2.0258 - accuracy: 0.2505 - val_loss: 2.0172 - val_accuracy: 0.2404 - 11s/epoch - 33ms/step\n",
      "Epoch 15/120\n",
      "329/329 - 11s - loss: 2.0036 - accuracy: 0.2507 - val_loss: 1.9897 - val_accuracy: 0.2404 - 11s/epoch - 33ms/step\n",
      "Epoch 16/120\n",
      "329/329 - 11s - loss: 1.9861 - accuracy: 0.2515 - val_loss: 1.9930 - val_accuracy: 0.2404 - 11s/epoch - 33ms/step\n",
      "Epoch 17/120\n",
      "329/329 - 11s - loss: 2.0023 - accuracy: 0.2811 - val_loss: 1.9019 - val_accuracy: 0.3143 - 11s/epoch - 32ms/step\n",
      "Epoch 18/120\n",
      "329/329 - 11s - loss: 1.9069 - accuracy: 0.3194 - val_loss: 1.8335 - val_accuracy: 0.3498 - 11s/epoch - 33ms/step\n",
      "Epoch 19/120\n",
      "329/329 - 11s - loss: 1.8494 - accuracy: 0.3532 - val_loss: 1.7352 - val_accuracy: 0.4000 - 11s/epoch - 33ms/step\n",
      "Epoch 20/120\n",
      "329/329 - 11s - loss: 1.7746 - accuracy: 0.3871 - val_loss: 1.6558 - val_accuracy: 0.4279 - 11s/epoch - 33ms/step\n",
      "Epoch 21/120\n",
      "329/329 - 11s - loss: 1.7052 - accuracy: 0.4181 - val_loss: 1.6131 - val_accuracy: 0.4488 - 11s/epoch - 33ms/step\n",
      "Epoch 22/120\n",
      "329/329 - 11s - loss: 1.6449 - accuracy: 0.4403 - val_loss: 1.5571 - val_accuracy: 0.4620 - 11s/epoch - 33ms/step\n",
      "Epoch 23/120\n",
      "329/329 - 11s - loss: 1.5946 - accuracy: 0.4554 - val_loss: 1.5218 - val_accuracy: 0.4787 - 11s/epoch - 33ms/step\n",
      "Epoch 24/120\n",
      "329/329 - 11s - loss: 1.5508 - accuracy: 0.4737 - val_loss: 1.4821 - val_accuracy: 0.4983 - 11s/epoch - 33ms/step\n",
      "Epoch 25/120\n",
      "329/329 - 11s - loss: 1.5330 - accuracy: 0.4842 - val_loss: 1.4568 - val_accuracy: 0.5150 - 11s/epoch - 33ms/step\n",
      "Epoch 26/120\n",
      "329/329 - 11s - loss: 1.4818 - accuracy: 0.4907 - val_loss: 1.4112 - val_accuracy: 0.5275 - 11s/epoch - 33ms/step\n",
      "Epoch 27/120\n",
      "329/329 - 11s - loss: 1.4585 - accuracy: 0.5040 - val_loss: 1.3741 - val_accuracy: 0.5324 - 11s/epoch - 33ms/step\n",
      "Epoch 28/120\n",
      "329/329 - 11s - loss: 1.4401 - accuracy: 0.5171 - val_loss: 1.3690 - val_accuracy: 0.5352 - 11s/epoch - 33ms/step\n",
      "Epoch 29/120\n",
      "329/329 - 11s - loss: 1.4262 - accuracy: 0.5201 - val_loss: 1.3699 - val_accuracy: 0.5436 - 11s/epoch - 33ms/step\n",
      "Epoch 30/120\n",
      "329/329 - 11s - loss: 1.4005 - accuracy: 0.5247 - val_loss: 1.3562 - val_accuracy: 0.5443 - 11s/epoch - 33ms/step\n",
      "Epoch 31/120\n",
      "329/329 - 11s - loss: 1.3848 - accuracy: 0.5334 - val_loss: 1.3024 - val_accuracy: 0.5540 - 11s/epoch - 32ms/step\n",
      "Epoch 32/120\n",
      "329/329 - 11s - loss: 1.3625 - accuracy: 0.5418 - val_loss: 1.3199 - val_accuracy: 0.5519 - 11s/epoch - 33ms/step\n",
      "Epoch 33/120\n",
      "329/329 - 11s - loss: 1.3551 - accuracy: 0.5437 - val_loss: 1.3006 - val_accuracy: 0.5679 - 11s/epoch - 33ms/step\n",
      "Epoch 34/120\n",
      "329/329 - 11s - loss: 1.3403 - accuracy: 0.5492 - val_loss: 1.3371 - val_accuracy: 0.5380 - 11s/epoch - 33ms/step\n",
      "Epoch 35/120\n",
      "329/329 - 11s - loss: 1.3262 - accuracy: 0.5506 - val_loss: 1.2909 - val_accuracy: 0.5645 - 11s/epoch - 34ms/step\n",
      "Epoch 36/120\n",
      "329/329 - 11s - loss: 1.3214 - accuracy: 0.5593 - val_loss: 1.2911 - val_accuracy: 0.5652 - 11s/epoch - 33ms/step\n",
      "Epoch 37/120\n",
      "329/329 - 11s - loss: 1.2954 - accuracy: 0.5622 - val_loss: 1.2721 - val_accuracy: 0.5672 - 11s/epoch - 33ms/step\n",
      "Epoch 38/120\n",
      "329/329 - 11s - loss: 1.2869 - accuracy: 0.5670 - val_loss: 1.2557 - val_accuracy: 0.5770 - 11s/epoch - 33ms/step\n",
      "Epoch 39/120\n",
      "329/329 - 11s - loss: 1.2826 - accuracy: 0.5675 - val_loss: 1.2573 - val_accuracy: 0.5819 - 11s/epoch - 33ms/step\n",
      "Epoch 40/120\n",
      "329/329 - 11s - loss: 1.2605 - accuracy: 0.5778 - val_loss: 1.2360 - val_accuracy: 0.5735 - 11s/epoch - 33ms/step\n",
      "Epoch 41/120\n",
      "329/329 - 11s - loss: 1.2583 - accuracy: 0.5748 - val_loss: 1.2491 - val_accuracy: 0.5645 - 11s/epoch - 32ms/step\n",
      "Epoch 42/120\n",
      "329/329 - 11s - loss: 1.2410 - accuracy: 0.5819 - val_loss: 1.2432 - val_accuracy: 0.5770 - 11s/epoch - 33ms/step\n",
      "Epoch 43/120\n",
      "329/329 - 11s - loss: 1.2366 - accuracy: 0.5851 - val_loss: 1.2329 - val_accuracy: 0.5826 - 11s/epoch - 33ms/step\n",
      "Epoch 44/120\n",
      "329/329 - 11s - loss: 1.2238 - accuracy: 0.5916 - val_loss: 1.2399 - val_accuracy: 0.5735 - 11s/epoch - 33ms/step\n",
      "Epoch 45/120\n",
      "329/329 - 11s - loss: 1.2187 - accuracy: 0.5924 - val_loss: 1.2316 - val_accuracy: 0.5826 - 11s/epoch - 33ms/step\n",
      "Epoch 46/120\n",
      "329/329 - 11s - loss: 1.2106 - accuracy: 0.5950 - val_loss: 1.2250 - val_accuracy: 0.5777 - 11s/epoch - 33ms/step\n",
      "Epoch 47/120\n",
      "329/329 - 11s - loss: 1.2011 - accuracy: 0.6024 - val_loss: 1.2140 - val_accuracy: 0.5868 - 11s/epoch - 34ms/step\n",
      "Epoch 48/120\n",
      "329/329 - 11s - loss: 1.1906 - accuracy: 0.6045 - val_loss: 1.2284 - val_accuracy: 0.5868 - 11s/epoch - 33ms/step\n",
      "Epoch 49/120\n",
      "329/329 - 11s - loss: 1.1846 - accuracy: 0.6048 - val_loss: 1.2057 - val_accuracy: 0.5958 - 11s/epoch - 33ms/step\n",
      "Epoch 50/120\n",
      "329/329 - 11s - loss: 1.1758 - accuracy: 0.6081 - val_loss: 1.1921 - val_accuracy: 0.5937 - 11s/epoch - 33ms/step\n",
      "Epoch 51/120\n",
      "329/329 - 11s - loss: 1.1684 - accuracy: 0.6107 - val_loss: 1.2136 - val_accuracy: 0.5916 - 11s/epoch - 32ms/step\n",
      "Epoch 52/120\n",
      "329/329 - 11s - loss: 1.1630 - accuracy: 0.6158 - val_loss: 1.1998 - val_accuracy: 0.6007 - 11s/epoch - 33ms/step\n",
      "Epoch 53/120\n",
      "329/329 - 11s - loss: 1.1580 - accuracy: 0.6138 - val_loss: 1.2060 - val_accuracy: 0.5930 - 11s/epoch - 33ms/step\n",
      "Epoch 54/120\n",
      "329/329 - 11s - loss: 1.1496 - accuracy: 0.6197 - val_loss: 1.1935 - val_accuracy: 0.5951 - 11s/epoch - 33ms/step\n",
      "Epoch 55/120\n",
      "329/329 - 11s - loss: 1.1462 - accuracy: 0.6213 - val_loss: 1.1826 - val_accuracy: 0.6105 - 11s/epoch - 33ms/step\n",
      "Epoch 56/120\n",
      "329/329 - 11s - loss: 1.1346 - accuracy: 0.6255 - val_loss: 1.1868 - val_accuracy: 0.6063 - 11s/epoch - 33ms/step\n",
      "Epoch 57/120\n",
      "329/329 - 11s - loss: 1.1273 - accuracy: 0.6301 - val_loss: 1.1762 - val_accuracy: 0.5972 - 11s/epoch - 32ms/step\n",
      "Epoch 58/120\n",
      "329/329 - 11s - loss: 1.1229 - accuracy: 0.6321 - val_loss: 1.1938 - val_accuracy: 0.5916 - 11s/epoch - 32ms/step\n",
      "Epoch 59/120\n",
      "329/329 - 11s - loss: 1.1088 - accuracy: 0.6369 - val_loss: 1.1926 - val_accuracy: 0.5937 - 11s/epoch - 33ms/step\n",
      "Epoch 60/120\n",
      "329/329 - 11s - loss: 1.1081 - accuracy: 0.6361 - val_loss: 1.1751 - val_accuracy: 0.5972 - 11s/epoch - 32ms/step\n",
      "Epoch 61/120\n",
      "329/329 - 11s - loss: 1.1070 - accuracy: 0.6372 - val_loss: 1.1839 - val_accuracy: 0.5937 - 11s/epoch - 33ms/step\n",
      "Epoch 62/120\n",
      "329/329 - 11s - loss: 1.0985 - accuracy: 0.6388 - val_loss: 1.1910 - val_accuracy: 0.6007 - 11s/epoch - 33ms/step\n",
      "Epoch 63/120\n",
      "329/329 - 11s - loss: 1.0908 - accuracy: 0.6447 - val_loss: 1.1838 - val_accuracy: 0.6063 - 11s/epoch - 33ms/step\n",
      "Epoch 64/120\n",
      "329/329 - 11s - loss: 1.0834 - accuracy: 0.6508 - val_loss: 1.1862 - val_accuracy: 0.5993 - 11s/epoch - 33ms/step\n",
      "Epoch 65/120\n",
      "329/329 - 11s - loss: 1.0743 - accuracy: 0.6475 - val_loss: 1.1758 - val_accuracy: 0.6105 - 11s/epoch - 32ms/step\n"
     ]
    },
    {
     "name": "stdout",
     "output_type": "stream",
     "text": [
      "Epoch 66/120\n",
      "329/329 - 11s - loss: 1.0738 - accuracy: 0.6459 - val_loss: 1.1764 - val_accuracy: 0.6091 - 11s/epoch - 32ms/step\n",
      "Epoch 67/120\n",
      "329/329 - 11s - loss: 1.0630 - accuracy: 0.6533 - val_loss: 1.1818 - val_accuracy: 0.6084 - 11s/epoch - 33ms/step\n",
      "Epoch 68/120\n",
      "329/329 - 11s - loss: 1.0624 - accuracy: 0.6577 - val_loss: 1.1731 - val_accuracy: 0.6118 - 11s/epoch - 32ms/step\n",
      "Epoch 69/120\n",
      "329/329 - 11s - loss: 1.0577 - accuracy: 0.6593 - val_loss: 1.1830 - val_accuracy: 0.6000 - 11s/epoch - 32ms/step\n",
      "Epoch 70/120\n",
      "329/329 - 11s - loss: 1.0500 - accuracy: 0.6597 - val_loss: 1.1759 - val_accuracy: 0.6181 - 11s/epoch - 33ms/step\n",
      "Epoch 71/120\n",
      "329/329 - 11s - loss: 1.0408 - accuracy: 0.6641 - val_loss: 1.1867 - val_accuracy: 0.6056 - 11s/epoch - 33ms/step\n",
      "Epoch 72/120\n",
      "329/329 - 11s - loss: 1.0419 - accuracy: 0.6597 - val_loss: 1.1728 - val_accuracy: 0.6091 - 11s/epoch - 33ms/step\n",
      "Epoch 73/120\n",
      "329/329 - 11s - loss: 1.0396 - accuracy: 0.6640 - val_loss: 1.1801 - val_accuracy: 0.6077 - 11s/epoch - 32ms/step\n",
      "Epoch 74/120\n",
      "329/329 - 11s - loss: 1.0310 - accuracy: 0.6698 - val_loss: 1.1741 - val_accuracy: 0.6091 - 11s/epoch - 33ms/step\n",
      "Epoch 75/120\n",
      "329/329 - 11s - loss: 1.0164 - accuracy: 0.6738 - val_loss: 1.1667 - val_accuracy: 0.6035 - 11s/epoch - 34ms/step\n",
      "Epoch 76/120\n",
      "329/329 - 12s - loss: 1.0077 - accuracy: 0.6759 - val_loss: 1.1976 - val_accuracy: 0.5930 - 12s/epoch - 36ms/step\n",
      "Epoch 77/120\n",
      "329/329 - 12s - loss: 1.0163 - accuracy: 0.6734 - val_loss: 1.1868 - val_accuracy: 0.6014 - 12s/epoch - 37ms/step\n",
      "Epoch 78/120\n",
      "329/329 - 12s - loss: 0.9996 - accuracy: 0.6786 - val_loss: 1.1739 - val_accuracy: 0.6209 - 12s/epoch - 37ms/step\n",
      "Epoch 79/120\n",
      "329/329 - 12s - loss: 1.0057 - accuracy: 0.6793 - val_loss: 1.1807 - val_accuracy: 0.6139 - 12s/epoch - 37ms/step\n",
      "Epoch 80/120\n",
      "329/329 - 12s - loss: 0.9986 - accuracy: 0.6824 - val_loss: 1.1904 - val_accuracy: 0.6000 - 12s/epoch - 37ms/step\n",
      "Epoch 81/120\n",
      "329/329 - 12s - loss: 0.9918 - accuracy: 0.6843 - val_loss: 1.1708 - val_accuracy: 0.6181 - 12s/epoch - 37ms/step\n",
      "Epoch 82/120\n",
      "329/329 - 12s - loss: 0.9883 - accuracy: 0.6876 - val_loss: 1.1748 - val_accuracy: 0.6272 - 12s/epoch - 36ms/step\n",
      "Epoch 83/120\n",
      "329/329 - 12s - loss: 0.9817 - accuracy: 0.6889 - val_loss: 1.1694 - val_accuracy: 0.6195 - 12s/epoch - 37ms/step\n",
      "Epoch 84/120\n",
      "329/329 - 13s - loss: 0.9873 - accuracy: 0.6837 - val_loss: 1.1780 - val_accuracy: 0.6084 - 13s/epoch - 38ms/step\n",
      "Epoch 85/120\n",
      "329/329 - 12s - loss: 0.9814 - accuracy: 0.6901 - val_loss: 1.2157 - val_accuracy: 0.6035 - 12s/epoch - 36ms/step\n",
      "Epoch 86/120\n",
      "329/329 - 11s - loss: 0.9669 - accuracy: 0.6954 - val_loss: 1.1850 - val_accuracy: 0.6063 - 11s/epoch - 33ms/step\n",
      "Epoch 87/120\n",
      "329/329 - 11s - loss: 0.9674 - accuracy: 0.6970 - val_loss: 1.1848 - val_accuracy: 0.6174 - 11s/epoch - 32ms/step\n",
      "Epoch 88/120\n",
      "329/329 - 11s - loss: 0.9659 - accuracy: 0.6942 - val_loss: 1.1678 - val_accuracy: 0.6035 - 11s/epoch - 33ms/step\n",
      "Epoch 89/120\n",
      "329/329 - 12s - loss: 0.9623 - accuracy: 0.6991 - val_loss: 1.1842 - val_accuracy: 0.6118 - 12s/epoch - 35ms/step\n",
      "Epoch 90/120\n",
      "329/329 - 12s - loss: 0.9557 - accuracy: 0.6961 - val_loss: 1.1648 - val_accuracy: 0.6251 - 12s/epoch - 36ms/step\n",
      "Epoch 91/120\n",
      "329/329 - 12s - loss: 0.9554 - accuracy: 0.6983 - val_loss: 1.1668 - val_accuracy: 0.6209 - 12s/epoch - 37ms/step\n",
      "Epoch 92/120\n",
      "329/329 - 12s - loss: 0.9478 - accuracy: 0.7017 - val_loss: 1.1856 - val_accuracy: 0.6118 - 12s/epoch - 36ms/step\n",
      "Epoch 93/120\n",
      "329/329 - 12s - loss: 0.9539 - accuracy: 0.6974 - val_loss: 1.1644 - val_accuracy: 0.6300 - 12s/epoch - 37ms/step\n",
      "Epoch 94/120\n",
      "329/329 - 12s - loss: 0.9398 - accuracy: 0.7085 - val_loss: 1.1795 - val_accuracy: 0.6244 - 12s/epoch - 37ms/step\n",
      "Epoch 95/120\n",
      "329/329 - 11s - loss: 0.9361 - accuracy: 0.7074 - val_loss: 1.1713 - val_accuracy: 0.6314 - 11s/epoch - 33ms/step\n",
      "Epoch 96/120\n",
      "329/329 - 11s - loss: 0.9363 - accuracy: 0.7104 - val_loss: 1.1833 - val_accuracy: 0.6167 - 11s/epoch - 33ms/step\n",
      "Epoch 97/120\n",
      "329/329 - 11s - loss: 0.9296 - accuracy: 0.7082 - val_loss: 1.1810 - val_accuracy: 0.6146 - 11s/epoch - 32ms/step\n",
      "Epoch 98/120\n",
      "329/329 - 11s - loss: 0.9296 - accuracy: 0.7088 - val_loss: 1.1786 - val_accuracy: 0.6202 - 11s/epoch - 32ms/step\n",
      "Epoch 99/120\n",
      "329/329 - 12s - loss: 0.9257 - accuracy: 0.7106 - val_loss: 1.1927 - val_accuracy: 0.6125 - 12s/epoch - 35ms/step\n",
      "Epoch 100/120\n",
      "329/329 - 12s - loss: 0.9250 - accuracy: 0.7113 - val_loss: 1.1742 - val_accuracy: 0.6216 - 12s/epoch - 36ms/step\n",
      "Epoch 101/120\n",
      "329/329 - 12s - loss: 0.9171 - accuracy: 0.7153 - val_loss: 1.1646 - val_accuracy: 0.6321 - 12s/epoch - 36ms/step\n",
      "Epoch 102/120\n",
      "329/329 - 12s - loss: 0.9099 - accuracy: 0.7168 - val_loss: 1.1803 - val_accuracy: 0.6195 - 12s/epoch - 36ms/step\n",
      "Epoch 103/120\n",
      "329/329 - 11s - loss: 0.9093 - accuracy: 0.7195 - val_loss: 1.1815 - val_accuracy: 0.6286 - 11s/epoch - 33ms/step\n",
      "Epoch 104/120\n",
      "329/329 - 11s - loss: 0.9028 - accuracy: 0.7218 - val_loss: 1.1795 - val_accuracy: 0.6265 - 11s/epoch - 33ms/step\n",
      "Epoch 105/120\n",
      "329/329 - 11s - loss: 0.8928 - accuracy: 0.7247 - val_loss: 1.1665 - val_accuracy: 0.6202 - 11s/epoch - 33ms/step\n",
      "Epoch 106/120\n",
      "329/329 - 11s - loss: 0.9081 - accuracy: 0.7145 - val_loss: 1.1669 - val_accuracy: 0.6307 - 11s/epoch - 32ms/step\n",
      "Epoch 107/120\n",
      "329/329 - 12s - loss: 0.9022 - accuracy: 0.7204 - val_loss: 1.1746 - val_accuracy: 0.6181 - 12s/epoch - 35ms/step\n",
      "Epoch 108/120\n",
      "329/329 - 12s - loss: 0.8954 - accuracy: 0.7219 - val_loss: 1.1748 - val_accuracy: 0.6146 - 12s/epoch - 36ms/step\n",
      "Epoch 109/120\n",
      "329/329 - 12s - loss: 0.9040 - accuracy: 0.7210 - val_loss: 1.1730 - val_accuracy: 0.6209 - 12s/epoch - 37ms/step\n",
      "Epoch 110/120\n",
      "329/329 - 12s - loss: 0.8893 - accuracy: 0.7259 - val_loss: 1.1893 - val_accuracy: 0.6209 - 12s/epoch - 37ms/step\n",
      "Epoch 111/120\n",
      "329/329 - 12s - loss: 0.8841 - accuracy: 0.7290 - val_loss: 1.1669 - val_accuracy: 0.6251 - 12s/epoch - 36ms/step\n",
      "Epoch 112/120\n",
      "329/329 - 12s - loss: 0.8868 - accuracy: 0.7252 - val_loss: 1.2010 - val_accuracy: 0.6125 - 12s/epoch - 36ms/step\n",
      "Epoch 113/120\n",
      "329/329 - 12s - loss: 0.8739 - accuracy: 0.7341 - val_loss: 1.1956 - val_accuracy: 0.6139 - 12s/epoch - 36ms/step\n",
      "Epoch 114/120\n",
      "329/329 - 12s - loss: 0.8893 - accuracy: 0.7248 - val_loss: 1.1767 - val_accuracy: 0.6146 - 12s/epoch - 36ms/step\n",
      "Epoch 115/120\n",
      "329/329 - 12s - loss: 0.8818 - accuracy: 0.7294 - val_loss: 1.1831 - val_accuracy: 0.6188 - 12s/epoch - 36ms/step\n",
      "Epoch 116/120\n",
      "329/329 - 12s - loss: 0.8817 - accuracy: 0.7286 - val_loss: 1.1814 - val_accuracy: 0.6251 - 12s/epoch - 36ms/step\n",
      "Epoch 117/120\n",
      "329/329 - 12s - loss: 0.8789 - accuracy: 0.7303 - val_loss: 1.1845 - val_accuracy: 0.6328 - 12s/epoch - 35ms/step\n",
      "Epoch 118/120\n",
      "329/329 - 11s - loss: 0.8695 - accuracy: 0.7358 - val_loss: 1.1884 - val_accuracy: 0.6202 - 11s/epoch - 34ms/step\n",
      "Epoch 119/120\n",
      "329/329 - 12s - loss: 0.8714 - accuracy: 0.7333 - val_loss: 1.1828 - val_accuracy: 0.6209 - 12s/epoch - 36ms/step\n",
      "Epoch 120/120\n",
      "329/329 - 11s - loss: 0.8623 - accuracy: 0.7394 - val_loss: 1.1884 - val_accuracy: 0.6230 - 11s/epoch - 35ms/step\n"
     ]
    }
   ],
   "source": [
    "# Training the model \n",
    "history = model.fit(train_data,\n",
    "                    epochs = epochs,\n",
    "                    validation_data = val_data,\n",
    "                    batch_size = batch_size,\n",
    "                    verbose = 2)"
   ]
  },
  {
   "cell_type": "code",
   "execution_count": 26,
   "id": "2f72183e",
   "metadata": {},
   "outputs": [
    {
     "data": {
      "image/png": "[encoded data removed]",
      "text/plain": [
       "<Figure size 800x800 with 2 Axes>"
      ]
     },
     "metadata": {},
     "output_type": "display_data"
    }
   ],
   "source": [
    "# Plotting the learning curve\n",
    "train_acc = history.history['accuracy']\n",
    "val_acc =history.history['val_accuracy']\n",
    "\n",
    "train_loss = history.history['loss']\n",
    "val_loss = history.history['val_loss']\n",
    "\n",
    "plt.figure(figsize=(8, 8))\n",
    "plt.subplot(2, 1, 1)\n",
    "plt.plot(train_acc, label='Training Accuracy')\n",
    "plt.plot(val_acc, label='Validation Accuracy')\n",
    "plt.legend(loc='lower right')\n",
    "plt.ylabel('Accuracy')\n",
    "plt.ylim([min(plt.ylim()),1])\n",
    "plt.title('Training and Validation Accuracy')\n",
    "\n",
    "plt.subplot(2, 1, 2)\n",
    "plt.plot(train_loss, label='Training Loss')\n",
    "plt.plot(val_loss, label='Validation Loss')\n",
    "plt.legend(loc='upper right')\n",
    "plt.ylabel('Loss')\n",
    "plt.ylim([min(plt.ylim()), max(val_loss)])\n",
    "plt.title('Training and Validation Loss')\n",
    "plt.xlabel('epoch')\n",
    "plt.show();"
   ]
  },
  {
   "cell_type": "markdown",
   "id": "41655e55",
   "metadata": {},
   "source": [
    "#### Saving the custom model"
   ]
  },
  {
   "cell_type": "code",
   "execution_count": 27,
   "id": "9f7acd51",
   "metadata": {},
   "outputs": [],
   "source": [
    "#model.save('custom_emotion_model.h5')"
   ]
  },
  {
   "cell_type": "code",
   "execution_count": 28,
   "id": "11c02592",
   "metadata": {},
   "outputs": [],
   "source": [
    "#model.save('custom_emotion_model2.h5')"
   ]
  },
  {
   "cell_type": "code",
   "execution_count": 29,
   "id": "f27442b8",
   "metadata": {},
   "outputs": [],
   "source": [
    "#model.save('custom_emotion_model3.h5')"
   ]
  },
  {
   "cell_type": "markdown",
   "id": "c7bb4bd8",
   "metadata": {},
   "source": [
    "##### Model Evaluation "
   ]
  },
  {
   "cell_type": "code",
   "execution_count": 38,
   "id": "4dd48bd7",
   "metadata": {},
   "outputs": [
    {
     "name": "stdout",
     "output_type": "stream",
     "text": [
      "103/103 [==============================] - 12s 104ms/step - loss: 1.2672 - accuracy: 0.6055\n",
      "Testing Acuaracy [1.2672227621078491, 0.6054611206054688]\n"
     ]
    }
   ],
   "source": [
    "print('Testing Acuaracy',model.evaluate(test_data))"
   ]
  },
  {
   "cell_type": "markdown",
   "id": "734e46b2",
   "metadata": {},
   "source": [
    "### Using Transfer Learning Algorithms "
   ]
  },
  {
   "cell_type": "markdown",
   "id": "49da69aa",
   "metadata": {},
   "source": [
    "#### Using Mobilenet"
   ]
  },
  {
   "cell_type": "code",
   "execution_count": 120,
   "id": "0930cf22",
   "metadata": {},
   "outputs": [],
   "source": [
    "# Set the image dimensions\n",
    "img_size = (124,124)\n",
    "batch_size = 32\n",
    "IMG_WIDTH = 124\n",
    "IMG_HEIGHT = 124\n",
    "input_shape = (IMG_HEIGHT,IMG_WIDTH,3)"
   ]
  },
  {
   "cell_type": "code",
   "execution_count": 121,
   "id": "baa1ac0f",
   "metadata": {},
   "outputs": [],
   "source": [
    "# Preprocess the image using mobilenet preprocess_input function\n",
    "preprocess_input = tf.keras.applications.mobilenet_v2.preprocess_input"
   ]
  },
  {
   "cell_type": "code",
   "execution_count": 122,
   "id": "04207b6e",
   "metadata": {},
   "outputs": [],
   "source": [
    "rescale = tf.keras.layers.experimental.preprocessing.Rescaling(1./127.5, offset= -1)"
   ]
  },
  {
   "cell_type": "code",
   "execution_count": 123,
   "id": "9f6e4492",
   "metadata": {},
   "outputs": [
    {
     "name": "stdout",
     "output_type": "stream",
     "text": [
      "WARNING:tensorflow:`input_shape` is undefined or non-square, or `rows` is not in [96, 128, 160, 192, 224]. Weights for input shape (224, 224) will be loaded as the default.\n"
     ]
    }
   ],
   "source": [
    "# Create the base model from the pre-trained model MobileNet V2\n",
    "IMG_SHAPE = img_size + (3,)\n",
    "mobilenet_base_model = tf.keras.applications.MobileNetV2(input_shape=IMG_SHAPE,\n",
    "                                               include_top=False,\n",
    "                                               weights='imagenet')"
   ]
  },
  {
   "cell_type": "code",
   "execution_count": 124,
   "id": "06a1fe4b",
   "metadata": {},
   "outputs": [
    {
     "name": "stdout",
     "output_type": "stream",
     "text": [
      "(70, 4, 4, 1280)\n"
     ]
    }
   ],
   "source": [
    "image_batch, label_batch = next(iter(train_data))\n",
    "feature_batch = mobilenet_base_model(image_batch)\n",
    "print(feature_batch.shape)"
   ]
  },
  {
   "cell_type": "code",
   "execution_count": 125,
   "id": "9c700b73",
   "metadata": {},
   "outputs": [],
   "source": [
    "### Freeze the convolutional Layer\n",
    "mobilenet_base_model.trainable = False"
   ]
  },
  {
   "cell_type": "code",
   "execution_count": 126,
   "id": "35c226c9",
   "metadata": {},
   "outputs": [
    {
     "name": "stdout",
     "output_type": "stream",
     "text": [
      "Model: \"mobilenetv2_1.00_224\"\n",
      "__________________________________________________________________________________________________\n",
      " Layer (type)                   Output Shape         Param #     Connected to                     \n",
      "==================================================================================================\n",
      " input_19 (InputLayer)          [(None, 124, 124, 3  0           []                               \n",
      "                                )]                                                                \n",
      "                                                                                                  \n",
      " Conv1 (Conv2D)                 (None, 62, 62, 32)   864         ['input_19[0][0]']               \n",
      "                                                                                                  \n",
      " bn_Conv1 (BatchNormalization)  (None, 62, 62, 32)   128         ['Conv1[0][0]']                  \n",
      "                                                                                                  \n",
      " Conv1_relu (ReLU)              (None, 62, 62, 32)   0           ['bn_Conv1[0][0]']               \n",
      "                                                                                                  \n",
      " expanded_conv_depthwise (Depth  (None, 62, 62, 32)  288         ['Conv1_relu[0][0]']             \n",
      " wiseConv2D)                                                                                      \n",
      "                                                                                                  \n",
      " expanded_conv_depthwise_BN (Ba  (None, 62, 62, 32)  128         ['expanded_conv_depthwise[0][0]']\n",
      " tchNormalization)                                                                                \n",
      "                                                                                                  \n",
      " expanded_conv_depthwise_relu (  (None, 62, 62, 32)  0           ['expanded_conv_depthwise_BN[0][0\n",
      " ReLU)                                                           ]']                              \n",
      "                                                                                                  \n",
      " expanded_conv_project (Conv2D)  (None, 62, 62, 16)  512         ['expanded_conv_depthwise_relu[0]\n",
      "                                                                 [0]']                            \n",
      "                                                                                                  \n",
      " expanded_conv_project_BN (Batc  (None, 62, 62, 16)  64          ['expanded_conv_project[0][0]']  \n",
      " hNormalization)                                                                                  \n",
      "                                                                                                  \n",
      " block_1_expand (Conv2D)        (None, 62, 62, 96)   1536        ['expanded_conv_project_BN[0][0]'\n",
      "                                                                 ]                                \n",
      "                                                                                                  \n",
      " block_1_expand_BN (BatchNormal  (None, 62, 62, 96)  384         ['block_1_expand[0][0]']         \n",
      " ization)                                                                                         \n",
      "                                                                                                  \n",
      " block_1_expand_relu (ReLU)     (None, 62, 62, 96)   0           ['block_1_expand_BN[0][0]']      \n",
      "                                                                                                  \n",
      " block_1_pad (ZeroPadding2D)    (None, 63, 63, 96)   0           ['block_1_expand_relu[0][0]']    \n",
      "                                                                                                  \n",
      " block_1_depthwise (DepthwiseCo  (None, 31, 31, 96)  864         ['block_1_pad[0][0]']            \n",
      " nv2D)                                                                                            \n",
      "                                                                                                  \n",
      " block_1_depthwise_BN (BatchNor  (None, 31, 31, 96)  384         ['block_1_depthwise[0][0]']      \n",
      " malization)                                                                                      \n",
      "                                                                                                  \n",
      " block_1_depthwise_relu (ReLU)  (None, 31, 31, 96)   0           ['block_1_depthwise_BN[0][0]']   \n",
      "                                                                                                  \n",
      " block_1_project (Conv2D)       (None, 31, 31, 24)   2304        ['block_1_depthwise_relu[0][0]'] \n",
      "                                                                                                  \n",
      " block_1_project_BN (BatchNorma  (None, 31, 31, 24)  96          ['block_1_project[0][0]']        \n",
      " lization)                                                                                        \n",
      "                                                                                                  \n",
      " block_2_expand (Conv2D)        (None, 31, 31, 144)  3456        ['block_1_project_BN[0][0]']     \n",
      "                                                                                                  \n",
      " block_2_expand_BN (BatchNormal  (None, 31, 31, 144)  576        ['block_2_expand[0][0]']         \n",
      " ization)                                                                                         \n",
      "                                                                                                  \n",
      " block_2_expand_relu (ReLU)     (None, 31, 31, 144)  0           ['block_2_expand_BN[0][0]']      \n",
      "                                                                                                  \n",
      " block_2_depthwise (DepthwiseCo  (None, 31, 31, 144)  1296       ['block_2_expand_relu[0][0]']    \n",
      " nv2D)                                                                                            \n",
      "                                                                                                  \n",
      " block_2_depthwise_BN (BatchNor  (None, 31, 31, 144)  576        ['block_2_depthwise[0][0]']      \n",
      " malization)                                                                                      \n",
      "                                                                                                  \n",
      " block_2_depthwise_relu (ReLU)  (None, 31, 31, 144)  0           ['block_2_depthwise_BN[0][0]']   \n",
      "                                                                                                  \n",
      " block_2_project (Conv2D)       (None, 31, 31, 24)   3456        ['block_2_depthwise_relu[0][0]'] \n",
      "                                                                                                  \n",
      " block_2_project_BN (BatchNorma  (None, 31, 31, 24)  96          ['block_2_project[0][0]']        \n",
      " lization)                                                                                        \n",
      "                                                                                                  \n",
      " block_2_add (Add)              (None, 31, 31, 24)   0           ['block_1_project_BN[0][0]',     \n",
      "                                                                  'block_2_project_BN[0][0]']     \n",
      "                                                                                                  \n",
      " block_3_expand (Conv2D)        (None, 31, 31, 144)  3456        ['block_2_add[0][0]']            \n",
      "                                                                                                  \n",
      " block_3_expand_BN (BatchNormal  (None, 31, 31, 144)  576        ['block_3_expand[0][0]']         \n",
      " ization)                                                                                         \n",
      "                                                                                                  \n",
      " block_3_expand_relu (ReLU)     (None, 31, 31, 144)  0           ['block_3_expand_BN[0][0]']      \n",
      "                                                                                                  \n",
      " block_3_pad (ZeroPadding2D)    (None, 33, 33, 144)  0           ['block_3_expand_relu[0][0]']    \n",
      "                                                                                                  \n",
      " block_3_depthwise (DepthwiseCo  (None, 16, 16, 144)  1296       ['block_3_pad[0][0]']            \n"
     ]
    },
    {
     "name": "stdout",
     "output_type": "stream",
     "text": [
      " nv2D)                                                                                            \n",
      "                                                                                                  \n",
      " block_3_depthwise_BN (BatchNor  (None, 16, 16, 144)  576        ['block_3_depthwise[0][0]']      \n",
      " malization)                                                                                      \n",
      "                                                                                                  \n",
      " block_3_depthwise_relu (ReLU)  (None, 16, 16, 144)  0           ['block_3_depthwise_BN[0][0]']   \n",
      "                                                                                                  \n",
      " block_3_project (Conv2D)       (None, 16, 16, 32)   4608        ['block_3_depthwise_relu[0][0]'] \n",
      "                                                                                                  \n",
      " block_3_project_BN (BatchNorma  (None, 16, 16, 32)  128         ['block_3_project[0][0]']        \n",
      " lization)                                                                                        \n",
      "                                                                                                  \n",
      " block_4_expand (Conv2D)        (None, 16, 16, 192)  6144        ['block_3_project_BN[0][0]']     \n",
      "                                                                                                  \n",
      " block_4_expand_BN (BatchNormal  (None, 16, 16, 192)  768        ['block_4_expand[0][0]']         \n",
      " ization)                                                                                         \n",
      "                                                                                                  \n",
      " block_4_expand_relu (ReLU)     (None, 16, 16, 192)  0           ['block_4_expand_BN[0][0]']      \n",
      "                                                                                                  \n",
      " block_4_depthwise (DepthwiseCo  (None, 16, 16, 192)  1728       ['block_4_expand_relu[0][0]']    \n",
      " nv2D)                                                                                            \n",
      "                                                                                                  \n",
      " block_4_depthwise_BN (BatchNor  (None, 16, 16, 192)  768        ['block_4_depthwise[0][0]']      \n",
      " malization)                                                                                      \n",
      "                                                                                                  \n",
      " block_4_depthwise_relu (ReLU)  (None, 16, 16, 192)  0           ['block_4_depthwise_BN[0][0]']   \n",
      "                                                                                                  \n",
      " block_4_project (Conv2D)       (None, 16, 16, 32)   6144        ['block_4_depthwise_relu[0][0]'] \n",
      "                                                                                                  \n",
      " block_4_project_BN (BatchNorma  (None, 16, 16, 32)  128         ['block_4_project[0][0]']        \n",
      " lization)                                                                                        \n",
      "                                                                                                  \n",
      " block_4_add (Add)              (None, 16, 16, 32)   0           ['block_3_project_BN[0][0]',     \n",
      "                                                                  'block_4_project_BN[0][0]']     \n",
      "                                                                                                  \n",
      " block_5_expand (Conv2D)        (None, 16, 16, 192)  6144        ['block_4_add[0][0]']            \n",
      "                                                                                                  \n",
      " block_5_expand_BN (BatchNormal  (None, 16, 16, 192)  768        ['block_5_expand[0][0]']         \n",
      " ization)                                                                                         \n",
      "                                                                                                  \n",
      " block_5_expand_relu (ReLU)     (None, 16, 16, 192)  0           ['block_5_expand_BN[0][0]']      \n",
      "                                                                                                  \n",
      " block_5_depthwise (DepthwiseCo  (None, 16, 16, 192)  1728       ['block_5_expand_relu[0][0]']    \n",
      " nv2D)                                                                                            \n",
      "                                                                                                  \n",
      " block_5_depthwise_BN (BatchNor  (None, 16, 16, 192)  768        ['block_5_depthwise[0][0]']      \n",
      " malization)                                                                                      \n",
      "                                                                                                  \n",
      " block_5_depthwise_relu (ReLU)  (None, 16, 16, 192)  0           ['block_5_depthwise_BN[0][0]']   \n",
      "                                                                                                  \n",
      " block_5_project (Conv2D)       (None, 16, 16, 32)   6144        ['block_5_depthwise_relu[0][0]'] \n",
      "                                                                                                  \n",
      " block_5_project_BN (BatchNorma  (None, 16, 16, 32)  128         ['block_5_project[0][0]']        \n",
      " lization)                                                                                        \n",
      "                                                                                                  \n",
      " block_5_add (Add)              (None, 16, 16, 32)   0           ['block_4_add[0][0]',            \n",
      "                                                                  'block_5_project_BN[0][0]']     \n",
      "                                                                                                  \n",
      " block_6_expand (Conv2D)        (None, 16, 16, 192)  6144        ['block_5_add[0][0]']            \n",
      "                                                                                                  \n",
      " block_6_expand_BN (BatchNormal  (None, 16, 16, 192)  768        ['block_6_expand[0][0]']         \n",
      " ization)                                                                                         \n",
      "                                                                                                  \n",
      " block_6_expand_relu (ReLU)     (None, 16, 16, 192)  0           ['block_6_expand_BN[0][0]']      \n",
      "                                                                                                  \n",
      " block_6_pad (ZeroPadding2D)    (None, 17, 17, 192)  0           ['block_6_expand_relu[0][0]']    \n",
      "                                                                                                  \n",
      " block_6_depthwise (DepthwiseCo  (None, 8, 8, 192)   1728        ['block_6_pad[0][0]']            \n",
      " nv2D)                                                                                            \n",
      "                                                                                                  \n",
      " block_6_depthwise_BN (BatchNor  (None, 8, 8, 192)   768         ['block_6_depthwise[0][0]']      \n",
      " malization)                                                                                      \n",
      "                                                                                                  \n",
      " block_6_depthwise_relu (ReLU)  (None, 8, 8, 192)    0           ['block_6_depthwise_BN[0][0]']   \n",
      "                                                                                                  \n",
      " block_6_project (Conv2D)       (None, 8, 8, 64)     12288       ['block_6_depthwise_relu[0][0]'] \n",
      "                                                                                                  \n",
      " block_6_project_BN (BatchNorma  (None, 8, 8, 64)    256         ['block_6_project[0][0]']        \n",
      " lization)                                                                                        \n",
      "                                                                                                  \n",
      " block_7_expand (Conv2D)        (None, 8, 8, 384)    24576       ['block_6_project_BN[0][0]']     \n",
      "                                                                                                  \n",
      " block_7_expand_BN (BatchNormal  (None, 8, 8, 384)   1536        ['block_7_expand[0][0]']         \n"
     ]
    },
    {
     "name": "stdout",
     "output_type": "stream",
     "text": [
      " ization)                                                                                         \n",
      "                                                                                                  \n",
      " block_7_expand_relu (ReLU)     (None, 8, 8, 384)    0           ['block_7_expand_BN[0][0]']      \n",
      "                                                                                                  \n",
      " block_7_depthwise (DepthwiseCo  (None, 8, 8, 384)   3456        ['block_7_expand_relu[0][0]']    \n",
      " nv2D)                                                                                            \n",
      "                                                                                                  \n",
      " block_7_depthwise_BN (BatchNor  (None, 8, 8, 384)   1536        ['block_7_depthwise[0][0]']      \n",
      " malization)                                                                                      \n",
      "                                                                                                  \n",
      " block_7_depthwise_relu (ReLU)  (None, 8, 8, 384)    0           ['block_7_depthwise_BN[0][0]']   \n",
      "                                                                                                  \n",
      " block_7_project (Conv2D)       (None, 8, 8, 64)     24576       ['block_7_depthwise_relu[0][0]'] \n",
      "                                                                                                  \n",
      " block_7_project_BN (BatchNorma  (None, 8, 8, 64)    256         ['block_7_project[0][0]']        \n",
      " lization)                                                                                        \n",
      "                                                                                                  \n",
      " block_7_add (Add)              (None, 8, 8, 64)     0           ['block_6_project_BN[0][0]',     \n",
      "                                                                  'block_7_project_BN[0][0]']     \n",
      "                                                                                                  \n",
      " block_8_expand (Conv2D)        (None, 8, 8, 384)    24576       ['block_7_add[0][0]']            \n",
      "                                                                                                  \n",
      " block_8_expand_BN (BatchNormal  (None, 8, 8, 384)   1536        ['block_8_expand[0][0]']         \n",
      " ization)                                                                                         \n",
      "                                                                                                  \n",
      " block_8_expand_relu (ReLU)     (None, 8, 8, 384)    0           ['block_8_expand_BN[0][0]']      \n",
      "                                                                                                  \n",
      " block_8_depthwise (DepthwiseCo  (None, 8, 8, 384)   3456        ['block_8_expand_relu[0][0]']    \n",
      " nv2D)                                                                                            \n",
      "                                                                                                  \n",
      " block_8_depthwise_BN (BatchNor  (None, 8, 8, 384)   1536        ['block_8_depthwise[0][0]']      \n",
      " malization)                                                                                      \n",
      "                                                                                                  \n",
      " block_8_depthwise_relu (ReLU)  (None, 8, 8, 384)    0           ['block_8_depthwise_BN[0][0]']   \n",
      "                                                                                                  \n",
      " block_8_project (Conv2D)       (None, 8, 8, 64)     24576       ['block_8_depthwise_relu[0][0]'] \n",
      "                                                                                                  \n",
      " block_8_project_BN (BatchNorma  (None, 8, 8, 64)    256         ['block_8_project[0][0]']        \n",
      " lization)                                                                                        \n",
      "                                                                                                  \n",
      " block_8_add (Add)              (None, 8, 8, 64)     0           ['block_7_add[0][0]',            \n",
      "                                                                  'block_8_project_BN[0][0]']     \n",
      "                                                                                                  \n",
      " block_9_expand (Conv2D)        (None, 8, 8, 384)    24576       ['block_8_add[0][0]']            \n",
      "                                                                                                  \n",
      " block_9_expand_BN (BatchNormal  (None, 8, 8, 384)   1536        ['block_9_expand[0][0]']         \n",
      " ization)                                                                                         \n",
      "                                                                                                  \n",
      " block_9_expand_relu (ReLU)     (None, 8, 8, 384)    0           ['block_9_expand_BN[0][0]']      \n",
      "                                                                                                  \n",
      " block_9_depthwise (DepthwiseCo  (None, 8, 8, 384)   3456        ['block_9_expand_relu[0][0]']    \n",
      " nv2D)                                                                                            \n",
      "                                                                                                  \n",
      " block_9_depthwise_BN (BatchNor  (None, 8, 8, 384)   1536        ['block_9_depthwise[0][0]']      \n",
      " malization)                                                                                      \n",
      "                                                                                                  \n",
      " block_9_depthwise_relu (ReLU)  (None, 8, 8, 384)    0           ['block_9_depthwise_BN[0][0]']   \n",
      "                                                                                                  \n",
      " block_9_project (Conv2D)       (None, 8, 8, 64)     24576       ['block_9_depthwise_relu[0][0]'] \n",
      "                                                                                                  \n",
      " block_9_project_BN (BatchNorma  (None, 8, 8, 64)    256         ['block_9_project[0][0]']        \n",
      " lization)                                                                                        \n",
      "                                                                                                  \n",
      " block_9_add (Add)              (None, 8, 8, 64)     0           ['block_8_add[0][0]',            \n",
      "                                                                  'block_9_project_BN[0][0]']     \n",
      "                                                                                                  \n",
      " block_10_expand (Conv2D)       (None, 8, 8, 384)    24576       ['block_9_add[0][0]']            \n",
      "                                                                                                  \n",
      " block_10_expand_BN (BatchNorma  (None, 8, 8, 384)   1536        ['block_10_expand[0][0]']        \n",
      " lization)                                                                                        \n",
      "                                                                                                  \n",
      " block_10_expand_relu (ReLU)    (None, 8, 8, 384)    0           ['block_10_expand_BN[0][0]']     \n",
      "                                                                                                  \n",
      " block_10_depthwise (DepthwiseC  (None, 8, 8, 384)   3456        ['block_10_expand_relu[0][0]']   \n",
      " onv2D)                                                                                           \n",
      "                                                                                                  \n",
      " block_10_depthwise_BN (BatchNo  (None, 8, 8, 384)   1536        ['block_10_depthwise[0][0]']     \n",
      " rmalization)                                                                                     \n",
      "                                                                                                  \n",
      " block_10_depthwise_relu (ReLU)  (None, 8, 8, 384)   0           ['block_10_depthwise_BN[0][0]']  \n",
      "                                                                                                  \n",
      " block_10_project (Conv2D)      (None, 8, 8, 96)     36864       ['block_10_depthwise_relu[0][0]']\n",
      "                                                                                                  \n"
     ]
    },
    {
     "name": "stdout",
     "output_type": "stream",
     "text": [
      " block_10_project_BN (BatchNorm  (None, 8, 8, 96)    384         ['block_10_project[0][0]']       \n",
      " alization)                                                                                       \n",
      "                                                                                                  \n",
      " block_11_expand (Conv2D)       (None, 8, 8, 576)    55296       ['block_10_project_BN[0][0]']    \n",
      "                                                                                                  \n",
      " block_11_expand_BN (BatchNorma  (None, 8, 8, 576)   2304        ['block_11_expand[0][0]']        \n",
      " lization)                                                                                        \n",
      "                                                                                                  \n",
      " block_11_expand_relu (ReLU)    (None, 8, 8, 576)    0           ['block_11_expand_BN[0][0]']     \n",
      "                                                                                                  \n",
      " block_11_depthwise (DepthwiseC  (None, 8, 8, 576)   5184        ['block_11_expand_relu[0][0]']   \n",
      " onv2D)                                                                                           \n",
      "                                                                                                  \n",
      " block_11_depthwise_BN (BatchNo  (None, 8, 8, 576)   2304        ['block_11_depthwise[0][0]']     \n",
      " rmalization)                                                                                     \n",
      "                                                                                                  \n",
      " block_11_depthwise_relu (ReLU)  (None, 8, 8, 576)   0           ['block_11_depthwise_BN[0][0]']  \n",
      "                                                                                                  \n",
      " block_11_project (Conv2D)      (None, 8, 8, 96)     55296       ['block_11_depthwise_relu[0][0]']\n",
      "                                                                                                  \n",
      " block_11_project_BN (BatchNorm  (None, 8, 8, 96)    384         ['block_11_project[0][0]']       \n",
      " alization)                                                                                       \n",
      "                                                                                                  \n",
      " block_11_add (Add)             (None, 8, 8, 96)     0           ['block_10_project_BN[0][0]',    \n",
      "                                                                  'block_11_project_BN[0][0]']    \n",
      "                                                                                                  \n",
      " block_12_expand (Conv2D)       (None, 8, 8, 576)    55296       ['block_11_add[0][0]']           \n",
      "                                                                                                  \n",
      " block_12_expand_BN (BatchNorma  (None, 8, 8, 576)   2304        ['block_12_expand[0][0]']        \n",
      " lization)                                                                                        \n",
      "                                                                                                  \n",
      " block_12_expand_relu (ReLU)    (None, 8, 8, 576)    0           ['block_12_expand_BN[0][0]']     \n",
      "                                                                                                  \n",
      " block_12_depthwise (DepthwiseC  (None, 8, 8, 576)   5184        ['block_12_expand_relu[0][0]']   \n",
      " onv2D)                                                                                           \n",
      "                                                                                                  \n",
      " block_12_depthwise_BN (BatchNo  (None, 8, 8, 576)   2304        ['block_12_depthwise[0][0]']     \n",
      " rmalization)                                                                                     \n",
      "                                                                                                  \n",
      " block_12_depthwise_relu (ReLU)  (None, 8, 8, 576)   0           ['block_12_depthwise_BN[0][0]']  \n",
      "                                                                                                  \n",
      " block_12_project (Conv2D)      (None, 8, 8, 96)     55296       ['block_12_depthwise_relu[0][0]']\n",
      "                                                                                                  \n",
      " block_12_project_BN (BatchNorm  (None, 8, 8, 96)    384         ['block_12_project[0][0]']       \n",
      " alization)                                                                                       \n",
      "                                                                                                  \n",
      " block_12_add (Add)             (None, 8, 8, 96)     0           ['block_11_add[0][0]',           \n",
      "                                                                  'block_12_project_BN[0][0]']    \n",
      "                                                                                                  \n",
      " block_13_expand (Conv2D)       (None, 8, 8, 576)    55296       ['block_12_add[0][0]']           \n",
      "                                                                                                  \n",
      " block_13_expand_BN (BatchNorma  (None, 8, 8, 576)   2304        ['block_13_expand[0][0]']        \n",
      " lization)                                                                                        \n",
      "                                                                                                  \n",
      " block_13_expand_relu (ReLU)    (None, 8, 8, 576)    0           ['block_13_expand_BN[0][0]']     \n",
      "                                                                                                  \n",
      " block_13_pad (ZeroPadding2D)   (None, 9, 9, 576)    0           ['block_13_expand_relu[0][0]']   \n",
      "                                                                                                  \n",
      " block_13_depthwise (DepthwiseC  (None, 4, 4, 576)   5184        ['block_13_pad[0][0]']           \n",
      " onv2D)                                                                                           \n",
      "                                                                                                  \n",
      " block_13_depthwise_BN (BatchNo  (None, 4, 4, 576)   2304        ['block_13_depthwise[0][0]']     \n",
      " rmalization)                                                                                     \n",
      "                                                                                                  \n",
      " block_13_depthwise_relu (ReLU)  (None, 4, 4, 576)   0           ['block_13_depthwise_BN[0][0]']  \n",
      "                                                                                                  \n",
      " block_13_project (Conv2D)      (None, 4, 4, 160)    92160       ['block_13_depthwise_relu[0][0]']\n",
      "                                                                                                  \n",
      " block_13_project_BN (BatchNorm  (None, 4, 4, 160)   640         ['block_13_project[0][0]']       \n",
      " alization)                                                                                       \n",
      "                                                                                                  \n",
      " block_14_expand (Conv2D)       (None, 4, 4, 960)    153600      ['block_13_project_BN[0][0]']    \n",
      "                                                                                                  \n",
      " block_14_expand_BN (BatchNorma  (None, 4, 4, 960)   3840        ['block_14_expand[0][0]']        \n",
      " lization)                                                                                        \n",
      "                                                                                                  \n",
      " block_14_expand_relu (ReLU)    (None, 4, 4, 960)    0           ['block_14_expand_BN[0][0]']     \n",
      "                                                                                                  \n",
      " block_14_depthwise (DepthwiseC  (None, 4, 4, 960)   8640        ['block_14_expand_relu[0][0]']   \n",
      " onv2D)                                                                                           \n",
      "                                                                                                  \n",
      " block_14_depthwise_BN (BatchNo  (None, 4, 4, 960)   3840        ['block_14_depthwise[0][0]']     \n",
      " rmalization)                                                                                     \n"
     ]
    },
    {
     "name": "stdout",
     "output_type": "stream",
     "text": [
      "                                                                                                  \n",
      " block_14_depthwise_relu (ReLU)  (None, 4, 4, 960)   0           ['block_14_depthwise_BN[0][0]']  \n",
      "                                                                                                  \n",
      " block_14_project (Conv2D)      (None, 4, 4, 160)    153600      ['block_14_depthwise_relu[0][0]']\n",
      "                                                                                                  \n",
      " block_14_project_BN (BatchNorm  (None, 4, 4, 160)   640         ['block_14_project[0][0]']       \n",
      " alization)                                                                                       \n",
      "                                                                                                  \n",
      " block_14_add (Add)             (None, 4, 4, 160)    0           ['block_13_project_BN[0][0]',    \n",
      "                                                                  'block_14_project_BN[0][0]']    \n",
      "                                                                                                  \n",
      " block_15_expand (Conv2D)       (None, 4, 4, 960)    153600      ['block_14_add[0][0]']           \n",
      "                                                                                                  \n",
      " block_15_expand_BN (BatchNorma  (None, 4, 4, 960)   3840        ['block_15_expand[0][0]']        \n",
      " lization)                                                                                        \n",
      "                                                                                                  \n",
      " block_15_expand_relu (ReLU)    (None, 4, 4, 960)    0           ['block_15_expand_BN[0][0]']     \n",
      "                                                                                                  \n",
      " block_15_depthwise (DepthwiseC  (None, 4, 4, 960)   8640        ['block_15_expand_relu[0][0]']   \n",
      " onv2D)                                                                                           \n",
      "                                                                                                  \n",
      " block_15_depthwise_BN (BatchNo  (None, 4, 4, 960)   3840        ['block_15_depthwise[0][0]']     \n",
      " rmalization)                                                                                     \n",
      "                                                                                                  \n",
      " block_15_depthwise_relu (ReLU)  (None, 4, 4, 960)   0           ['block_15_depthwise_BN[0][0]']  \n",
      "                                                                                                  \n",
      " block_15_project (Conv2D)      (None, 4, 4, 160)    153600      ['block_15_depthwise_relu[0][0]']\n",
      "                                                                                                  \n",
      " block_15_project_BN (BatchNorm  (None, 4, 4, 160)   640         ['block_15_project[0][0]']       \n",
      " alization)                                                                                       \n",
      "                                                                                                  \n",
      " block_15_add (Add)             (None, 4, 4, 160)    0           ['block_14_add[0][0]',           \n",
      "                                                                  'block_15_project_BN[0][0]']    \n",
      "                                                                                                  \n",
      " block_16_expand (Conv2D)       (None, 4, 4, 960)    153600      ['block_15_add[0][0]']           \n",
      "                                                                                                  \n",
      " block_16_expand_BN (BatchNorma  (None, 4, 4, 960)   3840        ['block_16_expand[0][0]']        \n",
      " lization)                                                                                        \n",
      "                                                                                                  \n",
      " block_16_expand_relu (ReLU)    (None, 4, 4, 960)    0           ['block_16_expand_BN[0][0]']     \n",
      "                                                                                                  \n",
      " block_16_depthwise (DepthwiseC  (None, 4, 4, 960)   8640        ['block_16_expand_relu[0][0]']   \n",
      " onv2D)                                                                                           \n",
      "                                                                                                  \n",
      " block_16_depthwise_BN (BatchNo  (None, 4, 4, 960)   3840        ['block_16_depthwise[0][0]']     \n",
      " rmalization)                                                                                     \n",
      "                                                                                                  \n",
      " block_16_depthwise_relu (ReLU)  (None, 4, 4, 960)   0           ['block_16_depthwise_BN[0][0]']  \n",
      "                                                                                                  \n",
      " block_16_project (Conv2D)      (None, 4, 4, 320)    307200      ['block_16_depthwise_relu[0][0]']\n",
      "                                                                                                  \n",
      " block_16_project_BN (BatchNorm  (None, 4, 4, 320)   1280        ['block_16_project[0][0]']       \n",
      " alization)                                                                                       \n",
      "                                                                                                  \n",
      " Conv_1 (Conv2D)                (None, 4, 4, 1280)   409600      ['block_16_project_BN[0][0]']    \n",
      "                                                                                                  \n",
      " Conv_1_bn (BatchNormalization)  (None, 4, 4, 1280)  5120        ['Conv_1[0][0]']                 \n",
      "                                                                                                  \n",
      " out_relu (ReLU)                (None, 4, 4, 1280)   0           ['Conv_1_bn[0][0]']              \n",
      "                                                                                                  \n",
      "==================================================================================================\n",
      "Total params: 2,257,984\n",
      "Trainable params: 0\n",
      "Non-trainable params: 2,257,984\n",
      "__________________________________________________________________________________________________\n"
     ]
    }
   ],
   "source": [
    "mobilenet_base_model.summary()"
   ]
  },
  {
   "cell_type": "code",
   "execution_count": 135,
   "id": "7125028a",
   "metadata": {},
   "outputs": [
    {
     "name": "stdout",
     "output_type": "stream",
     "text": [
      "(70, 1280)\n"
     ]
    }
   ],
   "source": [
    "# Reducing the spatial dimension of the input feature and applying it to the feature batch \n",
    "global_average_layer = tf.keras.layers.GlobalAveragePooling2D()\n",
    "feature_batch_average = global_average_layer(feature_batch)\n",
    "print(feature_batch_average.shape)"
   ]
  },
  {
   "cell_type": "code",
   "execution_count": 136,
   "id": "d6538ec9",
   "metadata": {},
   "outputs": [
    {
     "name": "stdout",
     "output_type": "stream",
     "text": [
      "(70, 7)\n"
     ]
    }
   ],
   "source": [
    "# Applying a dense layer to convert the features into a single prediction per image\n",
    "prediction_layer = tf.keras.layers.Dense(7)\n",
    "prediction_batch = prediction_layer(feature_batch_average)\n",
    "print(prediction_batch.shape)"
   ]
  },
  {
   "cell_type": "code",
   "execution_count": 137,
   "id": "1d6ef143",
   "metadata": {},
   "outputs": [],
   "source": [
    "# ## Building a model by chaining together the data augumentation,rescaling, mobilnet model and feature extractor\n",
    "# # Define the input shape for the model\n",
    "# inputs_mobilenet = tf.keras.Input(shape=input_shape)\n",
    "\n",
    "# # Apply data augmentation to the input data\n",
    "# x = data_augmentation(inputs_mobilenet)\n",
    "\n",
    "# # Preprocess the input data using the mobilenet preprocessing function\n",
    "# x = preprocess_input(x)\n",
    "\n",
    "# # Load the pre-trained mobilnet model and apply it to the preprocessed input data\n",
    "# mobilenet_base_model = tf.keras.applications.MobileNetV2(include_top=False, weights='imagenet')\n",
    "# x = mobilenet_base_model(x)\n",
    "\n",
    "# # Apply global average pooling to the output of the mobilnet model\n",
    "# x = tf.keras.layers.MaxPooling2D()(x)\n",
    "\n",
    "# # Apply dropout regularization to prevent overfitting\n",
    "# x = tf.keras.layers.Dropout(0.2)(x)\n",
    "\n",
    "# # Apply output layers for the model\n",
    "# outputs_mobilenet = tf.keras.layers.Dense(7,activation='sigmoid')(x)\n",
    "\n",
    "# # Define the input and output layers for the model\n",
    "# mobilenet_model = tf.keras.Model(inputs_mobilenet,outputs_mobilenet)"
   ]
  },
  {
   "cell_type": "code",
   "execution_count": 138,
   "id": "e7b57dff",
   "metadata": {},
   "outputs": [],
   "source": [
    "inputs = tf.keras.Input(shape=(124,124, 3))\n",
    "x = data_augmentation(inputs)\n",
    "x = preprocess_input(x)\n",
    "x = base_model(x, training=False)\n",
    "x = global_average_layer(x)\n",
    "x = tf.keras.layers.Dropout(0.2)(x)\n",
    "outputs = prediction_layer(x)\n",
    "mobilenet_model = tf.keras.Model(inputs, outputs)"
   ]
  },
  {
   "cell_type": "code",
   "execution_count": 139,
   "id": "fc840a37",
   "metadata": {},
   "outputs": [
    {
     "name": "stdout",
     "output_type": "stream",
     "text": [
      "Model: \"model_9\"\n",
      "_________________________________________________________________\n",
      " Layer (type)                Output Shape              Param #   \n",
      "=================================================================\n",
      " input_20 (InputLayer)       [(None, 124, 124, 3)]     0         \n",
      "                                                                 \n",
      " sequential_2 (Sequential)   (None, 124, 124, 3)       0         \n",
      "                                                                 \n",
      " tf.math.truediv_8 (TFOpLamb  (None, 124, 124, 3)      0         \n",
      " da)                                                             \n",
      "                                                                 \n",
      " tf.math.subtract_8 (TFOpLam  (None, 124, 124, 3)      0         \n",
      " bda)                                                            \n",
      "                                                                 \n",
      " mobilenetv2_1.00_224 (Funct  (None, 4, 4, 1280)       2257984   \n",
      " ional)                                                          \n",
      "                                                                 \n",
      " global_average_pooling2d_3   (None, 1280)             0         \n",
      " (GlobalAveragePooling2D)                                        \n",
      "                                                                 \n",
      " dropout_8 (Dropout)         (None, 1280)              0         \n",
      "                                                                 \n",
      " dense_15 (Dense)            (None, 7)                 8967      \n",
      "                                                                 \n",
      "=================================================================\n",
      "Total params: 2,266,951\n",
      "Trainable params: 2,232,839\n",
      "Non-trainable params: 34,112\n",
      "_________________________________________________________________\n"
     ]
    }
   ],
   "source": [
    "# Taking a look at the base model architecture\n",
    "mobilenet_model.summary()"
   ]
  },
  {
   "cell_type": "code",
   "execution_count": 140,
   "id": "6a181280",
   "metadata": {},
   "outputs": [],
   "source": [
    "# # Add the prediction layer to the model\n",
    "# x = prediction_layer(x)\n",
    "\n",
    "# # Modify dense layer to have 128 units instead of 1280\n",
    "# x = tf.keras.layers.Dense(units=128, activation='relu')(x)\n",
    "\n",
    "# # Add another dense layer with 64 units\n",
    "# x = tf.keras.layers.Dense(units=64, activation='relu')(x)\n",
    "\n",
    "# # Add another dense layer with 32 units\n",
    "# x = tf.keras.layers.Dense(units=32, activation='relu')(x)\n",
    "\n",
    "# # Add another dense layer with 16 units\n",
    "# x = tf.keras.layers.Dense(units=16, activation='relu')(x)\n",
    "\n",
    "# # Add the final output layer with 7 units and softmax activation\n",
    "# outputs = tf.keras.layers.Dense(units=7, activation='softmax')(x)\n",
    "\n",
    "# # Define the model inputs and outputs\n",
    "# mobilenet_model = tf.keras.Model(inputs=inputs, outputs=outputs)\n"
   ]
  },
  {
   "cell_type": "code",
   "execution_count": 141,
   "id": "c679a345",
   "metadata": {},
   "outputs": [],
   "source": [
    "# Compiling the model\n",
    "learning_rate = 0.0001\n",
    "mobilenet_model.compile(optimizer=tf.keras.optimizers.Adam(learning_rate=learning_rate),\n",
    "              loss=tf.keras.losses.CategoricalCrossentropy(from_logits=True),\n",
    "              metrics=['accuracy'])"
   ]
  },
  {
   "cell_type": "code",
   "execution_count": 142,
   "id": "d0a7250f",
   "metadata": {},
   "outputs": [
    {
     "data": {
      "text/plain": [
       "158"
      ]
     },
     "execution_count": 142,
     "metadata": {},
     "output_type": "execute_result"
    }
   ],
   "source": [
    "# Checking the trainable variable objects\n",
    "len(mobilenet_model.trainable_variables)"
   ]
  },
  {
   "cell_type": "code",
   "execution_count": 143,
   "id": "12e3781d",
   "metadata": {
    "scrolled": true
   },
   "outputs": [
    {
     "name": "stdout",
     "output_type": "stream",
     "text": [
      "Epoch 1/10\n",
      "WARNING:tensorflow:Using a while_loop for converting RngReadAndSkip cause there is no registered converter for this op.\n",
      "WARNING:tensorflow:Using a while_loop for converting Bitcast cause there is no registered converter for this op.\n",
      "WARNING:tensorflow:Using a while_loop for converting Bitcast cause there is no registered converter for this op.\n",
      "WARNING:tensorflow:Using a while_loop for converting StatelessRandomUniformV2 cause there is no registered converter for this op.\n",
      "WARNING:tensorflow:Using a while_loop for converting ImageProjectiveTransformV3 cause there is no registered converter for this op.\n",
      "WARNING:tensorflow:Using a while_loop for converting RngReadAndSkip cause there is no registered converter for this op.\n",
      "WARNING:tensorflow:Using a while_loop for converting Bitcast cause there is no registered converter for this op.\n",
      "WARNING:tensorflow:Using a while_loop for converting Bitcast cause there is no registered converter for this op.\n",
      "WARNING:tensorflow:Using a while_loop for converting StatelessRandomUniformV2 cause there is no registered converter for this op.\n",
      "WARNING:tensorflow:Using a while_loop for converting ImageProjectiveTransformV3 cause there is no registered converter for this op.\n"
     ]
    },
    {
     "ename": "NotFoundError",
     "evalue": "Graph execution error:\n\nDetected at node 'model_9/mobilenetv2_1.00_224/block_10_project/Conv2D' defined at (most recent call last):\n    File \"C:\\Users\\franc\\anaconda3\\lib\\runpy.py\", line 197, in _run_module_as_main\n      return _run_code(code, main_globals, None,\n    File \"C:\\Users\\franc\\anaconda3\\lib\\runpy.py\", line 87, in _run_code\n      exec(code, run_globals)\n    File \"C:\\Users\\franc\\anaconda3\\lib\\site-packages\\ipykernel_launcher.py\", line 16, in <module>\n      app.launch_new_instance()\n    File \"C:\\Users\\franc\\anaconda3\\lib\\site-packages\\traitlets\\config\\application.py\", line 1043, in launch_instance\n      app.start()\n    File \"C:\\Users\\franc\\anaconda3\\lib\\site-packages\\ipykernel\\kernelapp.py\", line 677, in start\n      self.io_loop.start()\n    File \"C:\\Users\\franc\\anaconda3\\lib\\site-packages\\tornado\\platform\\asyncio.py\", line 215, in start\n      self.asyncio_loop.run_forever()\n    File \"C:\\Users\\franc\\anaconda3\\lib\\asyncio\\base_events.py\", line 601, in run_forever\n      self._run_once()\n    File \"C:\\Users\\franc\\anaconda3\\lib\\asyncio\\base_events.py\", line 1905, in _run_once\n      handle._run()\n    File \"C:\\Users\\franc\\anaconda3\\lib\\asyncio\\events.py\", line 80, in _run\n      self._context.run(self._callback, *self._args)\n    File \"C:\\Users\\franc\\anaconda3\\lib\\site-packages\\ipykernel\\kernelbase.py\", line 457, in dispatch_queue\n      await self.process_one()\n    File \"C:\\Users\\franc\\anaconda3\\lib\\site-packages\\ipykernel\\kernelbase.py\", line 446, in process_one\n      await dispatch(*args)\n    File \"C:\\Users\\franc\\anaconda3\\lib\\site-packages\\ipykernel\\kernelbase.py\", line 353, in dispatch_shell\n      await result\n    File \"C:\\Users\\franc\\anaconda3\\lib\\site-packages\\ipykernel\\kernelbase.py\", line 648, in execute_request\n      reply_content = await reply_content\n    File \"C:\\Users\\franc\\anaconda3\\lib\\site-packages\\ipykernel\\ipkernel.py\", line 353, in do_execute\n      res = shell.run_cell(code, store_history=store_history, silent=silent)\n    File \"C:\\Users\\franc\\anaconda3\\lib\\site-packages\\ipykernel\\zmqshell.py\", line 533, in run_cell\n      return super(ZMQInteractiveShell, self).run_cell(*args, **kwargs)\n    File \"C:\\Users\\franc\\anaconda3\\lib\\site-packages\\IPython\\core\\interactiveshell.py\", line 2975, in run_cell\n      result = self._run_cell(\n    File \"C:\\Users\\franc\\anaconda3\\lib\\site-packages\\IPython\\core\\interactiveshell.py\", line 3030, in _run_cell\n      return runner(coro)\n    File \"C:\\Users\\franc\\anaconda3\\lib\\site-packages\\IPython\\core\\async_helpers.py\", line 78, in _pseudo_sync_runner\n      coro.send(None)\n    File \"C:\\Users\\franc\\anaconda3\\lib\\site-packages\\IPython\\core\\interactiveshell.py\", line 3257, in run_cell_async\n      has_raised = await self.run_ast_nodes(code_ast.body, cell_name,\n    File \"C:\\Users\\franc\\anaconda3\\lib\\site-packages\\IPython\\core\\interactiveshell.py\", line 3473, in run_ast_nodes\n      if (await self.run_code(code, result,  async_=asy)):\n    File \"C:\\Users\\franc\\anaconda3\\lib\\site-packages\\IPython\\core\\interactiveshell.py\", line 3553, in run_code\n      exec(code_obj, self.user_global_ns, self.user_ns)\n    File \"C:\\Users\\franc\\AppData\\Local\\Temp/ipykernel_5848/2158452712.py\", line 1, in <cell line: 1>\n      mobilenet_history = mobilenet_model.fit(train_data,\n    File \"C:\\Users\\franc\\AppData\\Roaming\\Python\\Python39\\site-packages\\keras\\utils\\traceback_utils.py\", line 65, in error_handler\n      return fn(*args, **kwargs)\n    File \"C:\\Users\\franc\\AppData\\Roaming\\Python\\Python39\\site-packages\\keras\\engine\\training.py\", line 1564, in fit\n      tmp_logs = self.train_function(iterator)\n    File \"C:\\Users\\franc\\AppData\\Roaming\\Python\\Python39\\site-packages\\keras\\engine\\training.py\", line 1160, in train_function\n      return step_function(self, iterator)\n    File \"C:\\Users\\franc\\AppData\\Roaming\\Python\\Python39\\site-packages\\keras\\engine\\training.py\", line 1146, in step_function\n      outputs = model.distribute_strategy.run(run_step, args=(data,))\n    File \"C:\\Users\\franc\\AppData\\Roaming\\Python\\Python39\\site-packages\\keras\\engine\\training.py\", line 1135, in run_step\n      outputs = model.train_step(data)\n    File \"C:\\Users\\franc\\AppData\\Roaming\\Python\\Python39\\site-packages\\keras\\engine\\training.py\", line 993, in train_step\n      y_pred = self(x, training=True)\n    File \"C:\\Users\\franc\\AppData\\Roaming\\Python\\Python39\\site-packages\\keras\\utils\\traceback_utils.py\", line 65, in error_handler\n      return fn(*args, **kwargs)\n    File \"C:\\Users\\franc\\AppData\\Roaming\\Python\\Python39\\site-packages\\keras\\engine\\training.py\", line 557, in __call__\n      return super().__call__(*args, **kwargs)\n    File \"C:\\Users\\franc\\AppData\\Roaming\\Python\\Python39\\site-packages\\keras\\utils\\traceback_utils.py\", line 65, in error_handler\n      return fn(*args, **kwargs)\n    File \"C:\\Users\\franc\\AppData\\Roaming\\Python\\Python39\\site-packages\\keras\\engine\\base_layer.py\", line 1097, in __call__\n      outputs = call_fn(inputs, *args, **kwargs)\n    File \"C:\\Users\\franc\\AppData\\Roaming\\Python\\Python39\\site-packages\\keras\\utils\\traceback_utils.py\", line 96, in error_handler\n      return fn(*args, **kwargs)\n    File \"C:\\Users\\franc\\AppData\\Roaming\\Python\\Python39\\site-packages\\keras\\engine\\functional.py\", line 510, in call\n      return self._run_internal_graph(inputs, training=training, mask=mask)\n    File \"C:\\Users\\franc\\AppData\\Roaming\\Python\\Python39\\site-packages\\keras\\engine\\functional.py\", line 667, in _run_internal_graph\n      outputs = node.layer(*args, **kwargs)\n    File \"C:\\Users\\franc\\AppData\\Roaming\\Python\\Python39\\site-packages\\keras\\utils\\traceback_utils.py\", line 65, in error_handler\n      return fn(*args, **kwargs)\n    File \"C:\\Users\\franc\\AppData\\Roaming\\Python\\Python39\\site-packages\\keras\\engine\\training.py\", line 557, in __call__\n      return super().__call__(*args, **kwargs)\n    File \"C:\\Users\\franc\\AppData\\Roaming\\Python\\Python39\\site-packages\\keras\\utils\\traceback_utils.py\", line 65, in error_handler\n      return fn(*args, **kwargs)\n    File \"C:\\Users\\franc\\AppData\\Roaming\\Python\\Python39\\site-packages\\keras\\engine\\base_layer.py\", line 1097, in __call__\n      outputs = call_fn(inputs, *args, **kwargs)\n    File \"C:\\Users\\franc\\AppData\\Roaming\\Python\\Python39\\site-packages\\keras\\utils\\traceback_utils.py\", line 96, in error_handler\n      return fn(*args, **kwargs)\n    File \"C:\\Users\\franc\\AppData\\Roaming\\Python\\Python39\\site-packages\\keras\\engine\\functional.py\", line 510, in call\n      return self._run_internal_graph(inputs, training=training, mask=mask)\n    File \"C:\\Users\\franc\\AppData\\Roaming\\Python\\Python39\\site-packages\\keras\\engine\\functional.py\", line 667, in _run_internal_graph\n      outputs = node.layer(*args, **kwargs)\n    File \"C:\\Users\\franc\\AppData\\Roaming\\Python\\Python39\\site-packages\\keras\\utils\\traceback_utils.py\", line 65, in error_handler\n      return fn(*args, **kwargs)\n    File \"C:\\Users\\franc\\AppData\\Roaming\\Python\\Python39\\site-packages\\keras\\engine\\base_layer.py\", line 1097, in __call__\n      outputs = call_fn(inputs, *args, **kwargs)\n    File \"C:\\Users\\franc\\AppData\\Roaming\\Python\\Python39\\site-packages\\keras\\utils\\traceback_utils.py\", line 96, in error_handler\n      return fn(*args, **kwargs)\n    File \"C:\\Users\\franc\\AppData\\Roaming\\Python\\Python39\\site-packages\\keras\\layers\\convolutional\\base_conv.py\", line 283, in call\n      outputs = self.convolution_op(inputs, self.kernel)\n    File \"C:\\Users\\franc\\AppData\\Roaming\\Python\\Python39\\site-packages\\keras\\layers\\convolutional\\base_conv.py\", line 255, in convolution_op\n      return tf.nn.convolution(\nNode: 'model_9/mobilenetv2_1.00_224/block_10_project/Conv2D'\nNo algorithm worked!  Error messages:\n  Profiling failure on CUDNN engine 1: RESOURCE_EXHAUSTED: Out of memory while trying to allocate 16926208 bytes.\n  Profiling failure on CUDNN engine 0: RESOURCE_EXHAUSTED: Out of memory while trying to allocate 16777216 bytes.\n  Profiling failure on CUDNN engine 2: RESOURCE_EXHAUSTED: Out of memory while trying to allocate 23658496 bytes.\n  Profiling failure on CUDNN engine 4: RESOURCE_EXHAUSTED: Out of memory while trying to allocate 163790848 bytes.\n  Profiling failure on CUDNN engine 5: RESOURCE_EXHAUSTED: Out of memory while trying to allocate 58347520 bytes.\n\t [[{{node model_9/mobilenetv2_1.00_224/block_10_project/Conv2D}}]] [Op:__inference_train_function_106412]",
     "output_type": "error",
     "traceback": [
      "\u001b[1;31m---------------------------------------------------------------------------\u001b[0m",
      "\u001b[1;31mNotFoundError\u001b[0m                             Traceback (most recent call last)",
      "\u001b[1;32m~\\AppData\\Local\\Temp/ipykernel_5848/2158452712.py\u001b[0m in \u001b[0;36m<cell line: 1>\u001b[1;34m()\u001b[0m\n\u001b[1;32m----> 1\u001b[1;33m mobilenet_history = mobilenet_model.fit(train_data,\n\u001b[0m\u001b[0;32m      2\u001b[0m                                         \u001b[0mepochs\u001b[0m\u001b[1;33m=\u001b[0m\u001b[1;36m10\u001b[0m\u001b[1;33m,\u001b[0m\u001b[1;33m\u001b[0m\u001b[1;33m\u001b[0m\u001b[0m\n\u001b[0;32m      3\u001b[0m                                         validation_data=val_data)\n",
      "\u001b[1;32m~\\AppData\\Roaming\\Python\\Python39\\site-packages\\keras\\utils\\traceback_utils.py\u001b[0m in \u001b[0;36merror_handler\u001b[1;34m(*args, **kwargs)\u001b[0m\n\u001b[0;32m     68\u001b[0m             \u001b[1;31m# To get the full stack trace, call:\u001b[0m\u001b[1;33m\u001b[0m\u001b[1;33m\u001b[0m\u001b[0m\n\u001b[0;32m     69\u001b[0m             \u001b[1;31m# `tf.debugging.disable_traceback_filtering()`\u001b[0m\u001b[1;33m\u001b[0m\u001b[1;33m\u001b[0m\u001b[0m\n\u001b[1;32m---> 70\u001b[1;33m             \u001b[1;32mraise\u001b[0m \u001b[0me\u001b[0m\u001b[1;33m.\u001b[0m\u001b[0mwith_traceback\u001b[0m\u001b[1;33m(\u001b[0m\u001b[0mfiltered_tb\u001b[0m\u001b[1;33m)\u001b[0m \u001b[1;32mfrom\u001b[0m \u001b[1;32mNone\u001b[0m\u001b[1;33m\u001b[0m\u001b[1;33m\u001b[0m\u001b[0m\n\u001b[0m\u001b[0;32m     71\u001b[0m         \u001b[1;32mfinally\u001b[0m\u001b[1;33m:\u001b[0m\u001b[1;33m\u001b[0m\u001b[1;33m\u001b[0m\u001b[0m\n\u001b[0;32m     72\u001b[0m             \u001b[1;32mdel\u001b[0m \u001b[0mfiltered_tb\u001b[0m\u001b[1;33m\u001b[0m\u001b[1;33m\u001b[0m\u001b[0m\n",
      "\u001b[1;32m~\\AppData\\Roaming\\Python\\Python39\\site-packages\\tensorflow\\python\\eager\\execute.py\u001b[0m in \u001b[0;36mquick_execute\u001b[1;34m(op_name, num_outputs, inputs, attrs, ctx, name)\u001b[0m\n\u001b[0;32m     52\u001b[0m   \u001b[1;32mtry\u001b[0m\u001b[1;33m:\u001b[0m\u001b[1;33m\u001b[0m\u001b[1;33m\u001b[0m\u001b[0m\n\u001b[0;32m     53\u001b[0m     \u001b[0mctx\u001b[0m\u001b[1;33m.\u001b[0m\u001b[0mensure_initialized\u001b[0m\u001b[1;33m(\u001b[0m\u001b[1;33m)\u001b[0m\u001b[1;33m\u001b[0m\u001b[1;33m\u001b[0m\u001b[0m\n\u001b[1;32m---> 54\u001b[1;33m     tensors = pywrap_tfe.TFE_Py_Execute(ctx._handle, device_name, op_name,\n\u001b[0m\u001b[0;32m     55\u001b[0m                                         inputs, attrs, num_outputs)\n\u001b[0;32m     56\u001b[0m   \u001b[1;32mexcept\u001b[0m \u001b[0mcore\u001b[0m\u001b[1;33m.\u001b[0m\u001b[0m_NotOkStatusException\u001b[0m \u001b[1;32mas\u001b[0m \u001b[0me\u001b[0m\u001b[1;33m:\u001b[0m\u001b[1;33m\u001b[0m\u001b[1;33m\u001b[0m\u001b[0m\n",
      "\u001b[1;31mNotFoundError\u001b[0m: Graph execution error:\n\nDetected at node 'model_9/mobilenetv2_1.00_224/block_10_project/Conv2D' defined at (most recent call last):\n    File \"C:\\Users\\franc\\anaconda3\\lib\\runpy.py\", line 197, in _run_module_as_main\n      return _run_code(code, main_globals, None,\n    File \"C:\\Users\\franc\\anaconda3\\lib\\runpy.py\", line 87, in _run_code\n      exec(code, run_globals)\n    File \"C:\\Users\\franc\\anaconda3\\lib\\site-packages\\ipykernel_launcher.py\", line 16, in <module>\n      app.launch_new_instance()\n    File \"C:\\Users\\franc\\anaconda3\\lib\\site-packages\\traitlets\\config\\application.py\", line 1043, in launch_instance\n      app.start()\n    File \"C:\\Users\\franc\\anaconda3\\lib\\site-packages\\ipykernel\\kernelapp.py\", line 677, in start\n      self.io_loop.start()\n    File \"C:\\Users\\franc\\anaconda3\\lib\\site-packages\\tornado\\platform\\asyncio.py\", line 215, in start\n      self.asyncio_loop.run_forever()\n    File \"C:\\Users\\franc\\anaconda3\\lib\\asyncio\\base_events.py\", line 601, in run_forever\n      self._run_once()\n    File \"C:\\Users\\franc\\anaconda3\\lib\\asyncio\\base_events.py\", line 1905, in _run_once\n      handle._run()\n    File \"C:\\Users\\franc\\anaconda3\\lib\\asyncio\\events.py\", line 80, in _run\n      self._context.run(self._callback, *self._args)\n    File \"C:\\Users\\franc\\anaconda3\\lib\\site-packages\\ipykernel\\kernelbase.py\", line 457, in dispatch_queue\n      await self.process_one()\n    File \"C:\\Users\\franc\\anaconda3\\lib\\site-packages\\ipykernel\\kernelbase.py\", line 446, in process_one\n      await dispatch(*args)\n    File \"C:\\Users\\franc\\anaconda3\\lib\\site-packages\\ipykernel\\kernelbase.py\", line 353, in dispatch_shell\n      await result\n    File \"C:\\Users\\franc\\anaconda3\\lib\\site-packages\\ipykernel\\kernelbase.py\", line 648, in execute_request\n      reply_content = await reply_content\n    File \"C:\\Users\\franc\\anaconda3\\lib\\site-packages\\ipykernel\\ipkernel.py\", line 353, in do_execute\n      res = shell.run_cell(code, store_history=store_history, silent=silent)\n    File \"C:\\Users\\franc\\anaconda3\\lib\\site-packages\\ipykernel\\zmqshell.py\", line 533, in run_cell\n      return super(ZMQInteractiveShell, self).run_cell(*args, **kwargs)\n    File \"C:\\Users\\franc\\anaconda3\\lib\\site-packages\\IPython\\core\\interactiveshell.py\", line 2975, in run_cell\n      result = self._run_cell(\n    File \"C:\\Users\\franc\\anaconda3\\lib\\site-packages\\IPython\\core\\interactiveshell.py\", line 3030, in _run_cell\n      return runner(coro)\n    File \"C:\\Users\\franc\\anaconda3\\lib\\site-packages\\IPython\\core\\async_helpers.py\", line 78, in _pseudo_sync_runner\n      coro.send(None)\n    File \"C:\\Users\\franc\\anaconda3\\lib\\site-packages\\IPython\\core\\interactiveshell.py\", line 3257, in run_cell_async\n      has_raised = await self.run_ast_nodes(code_ast.body, cell_name,\n    File \"C:\\Users\\franc\\anaconda3\\lib\\site-packages\\IPython\\core\\interactiveshell.py\", line 3473, in run_ast_nodes\n      if (await self.run_code(code, result,  async_=asy)):\n    File \"C:\\Users\\franc\\anaconda3\\lib\\site-packages\\IPython\\core\\interactiveshell.py\", line 3553, in run_code\n      exec(code_obj, self.user_global_ns, self.user_ns)\n    File \"C:\\Users\\franc\\AppData\\Local\\Temp/ipykernel_5848/2158452712.py\", line 1, in <cell line: 1>\n      mobilenet_history = mobilenet_model.fit(train_data,\n    File \"C:\\Users\\franc\\AppData\\Roaming\\Python\\Python39\\site-packages\\keras\\utils\\traceback_utils.py\", line 65, in error_handler\n      return fn(*args, **kwargs)\n    File \"C:\\Users\\franc\\AppData\\Roaming\\Python\\Python39\\site-packages\\keras\\engine\\training.py\", line 1564, in fit\n      tmp_logs = self.train_function(iterator)\n    File \"C:\\Users\\franc\\AppData\\Roaming\\Python\\Python39\\site-packages\\keras\\engine\\training.py\", line 1160, in train_function\n      return step_function(self, iterator)\n    File \"C:\\Users\\franc\\AppData\\Roaming\\Python\\Python39\\site-packages\\keras\\engine\\training.py\", line 1146, in step_function\n      outputs = model.distribute_strategy.run(run_step, args=(data,))\n    File \"C:\\Users\\franc\\AppData\\Roaming\\Python\\Python39\\site-packages\\keras\\engine\\training.py\", line 1135, in run_step\n      outputs = model.train_step(data)\n    File \"C:\\Users\\franc\\AppData\\Roaming\\Python\\Python39\\site-packages\\keras\\engine\\training.py\", line 993, in train_step\n      y_pred = self(x, training=True)\n    File \"C:\\Users\\franc\\AppData\\Roaming\\Python\\Python39\\site-packages\\keras\\utils\\traceback_utils.py\", line 65, in error_handler\n      return fn(*args, **kwargs)\n    File \"C:\\Users\\franc\\AppData\\Roaming\\Python\\Python39\\site-packages\\keras\\engine\\training.py\", line 557, in __call__\n      return super().__call__(*args, **kwargs)\n    File \"C:\\Users\\franc\\AppData\\Roaming\\Python\\Python39\\site-packages\\keras\\utils\\traceback_utils.py\", line 65, in error_handler\n      return fn(*args, **kwargs)\n    File \"C:\\Users\\franc\\AppData\\Roaming\\Python\\Python39\\site-packages\\keras\\engine\\base_layer.py\", line 1097, in __call__\n      outputs = call_fn(inputs, *args, **kwargs)\n    File \"C:\\Users\\franc\\AppData\\Roaming\\Python\\Python39\\site-packages\\keras\\utils\\traceback_utils.py\", line 96, in error_handler\n      return fn(*args, **kwargs)\n    File \"C:\\Users\\franc\\AppData\\Roaming\\Python\\Python39\\site-packages\\keras\\engine\\functional.py\", line 510, in call\n      return self._run_internal_graph(inputs, training=training, mask=mask)\n    File \"C:\\Users\\franc\\AppData\\Roaming\\Python\\Python39\\site-packages\\keras\\engine\\functional.py\", line 667, in _run_internal_graph\n      outputs = node.layer(*args, **kwargs)\n    File \"C:\\Users\\franc\\AppData\\Roaming\\Python\\Python39\\site-packages\\keras\\utils\\traceback_utils.py\", line 65, in error_handler\n      return fn(*args, **kwargs)\n    File \"C:\\Users\\franc\\AppData\\Roaming\\Python\\Python39\\site-packages\\keras\\engine\\training.py\", line 557, in __call__\n      return super().__call__(*args, **kwargs)\n    File \"C:\\Users\\franc\\AppData\\Roaming\\Python\\Python39\\site-packages\\keras\\utils\\traceback_utils.py\", line 65, in error_handler\n      return fn(*args, **kwargs)\n    File \"C:\\Users\\franc\\AppData\\Roaming\\Python\\Python39\\site-packages\\keras\\engine\\base_layer.py\", line 1097, in __call__\n      outputs = call_fn(inputs, *args, **kwargs)\n    File \"C:\\Users\\franc\\AppData\\Roaming\\Python\\Python39\\site-packages\\keras\\utils\\traceback_utils.py\", line 96, in error_handler\n      return fn(*args, **kwargs)\n    File \"C:\\Users\\franc\\AppData\\Roaming\\Python\\Python39\\site-packages\\keras\\engine\\functional.py\", line 510, in call\n      return self._run_internal_graph(inputs, training=training, mask=mask)\n    File \"C:\\Users\\franc\\AppData\\Roaming\\Python\\Python39\\site-packages\\keras\\engine\\functional.py\", line 667, in _run_internal_graph\n      outputs = node.layer(*args, **kwargs)\n    File \"C:\\Users\\franc\\AppData\\Roaming\\Python\\Python39\\site-packages\\keras\\utils\\traceback_utils.py\", line 65, in error_handler\n      return fn(*args, **kwargs)\n    File \"C:\\Users\\franc\\AppData\\Roaming\\Python\\Python39\\site-packages\\keras\\engine\\base_layer.py\", line 1097, in __call__\n      outputs = call_fn(inputs, *args, **kwargs)\n    File \"C:\\Users\\franc\\AppData\\Roaming\\Python\\Python39\\site-packages\\keras\\utils\\traceback_utils.py\", line 96, in error_handler\n      return fn(*args, **kwargs)\n    File \"C:\\Users\\franc\\AppData\\Roaming\\Python\\Python39\\site-packages\\keras\\layers\\convolutional\\base_conv.py\", line 283, in call\n      outputs = self.convolution_op(inputs, self.kernel)\n    File \"C:\\Users\\franc\\AppData\\Roaming\\Python\\Python39\\site-packages\\keras\\layers\\convolutional\\base_conv.py\", line 255, in convolution_op\n      return tf.nn.convolution(\nNode: 'model_9/mobilenetv2_1.00_224/block_10_project/Conv2D'\nNo algorithm worked!  Error messages:\n  Profiling failure on CUDNN engine 1: RESOURCE_EXHAUSTED: Out of memory while trying to allocate 16926208 bytes.\n  Profiling failure on CUDNN engine 0: RESOURCE_EXHAUSTED: Out of memory while trying to allocate 16777216 bytes.\n  Profiling failure on CUDNN engine 2: RESOURCE_EXHAUSTED: Out of memory while trying to allocate 23658496 bytes.\n  Profiling failure on CUDNN engine 4: RESOURCE_EXHAUSTED: Out of memory while trying to allocate 163790848 bytes.\n  Profiling failure on CUDNN engine 5: RESOURCE_EXHAUSTED: Out of memory while trying to allocate 58347520 bytes.\n\t [[{{node model_9/mobilenetv2_1.00_224/block_10_project/Conv2D}}]] [Op:__inference_train_function_106412]"
     ]
    }
   ],
   "source": [
    "mobilenet_history = mobilenet_model.fit(train_data,\n",
    "                                        epochs=10,\n",
    "                                        validation_data=val_data)\n"
   ]
  },
  {
   "cell_type": "code",
   "execution_count": null,
   "id": "df6fbed2",
   "metadata": {},
   "outputs": [],
   "source": []
  }
 ],
 "metadata": {
  "kernelspec": {
   "display_name": "Python 3 (ipykernel)",
   "language": "python",
   "name": "python3"
  },
  "language_info": {
   "codemirror_mode": {
    "name": "ipython",
    "version": 3
   },
   "file_extension": ".py",
   "mimetype": "text/x-python",
   "name": "python",
   "nbconvert_exporter": "python",
   "pygments_lexer": "ipython3",
   "version": "3.9.13"
  }
 },
 "nbformat": 4,
 "nbformat_minor": 5
}
